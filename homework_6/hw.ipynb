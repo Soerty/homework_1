{
 "cells": [
  {
   "cell_type": "markdown",
   "metadata": {},
   "source": [
    "# Binary classfication"
   ]
  },
  {
   "cell_type": "code",
   "execution_count": 1,
   "metadata": {},
   "outputs": [
    {
     "name": "stderr",
     "output_type": "stream",
     "text": [
      "/anaconda3/lib/python3.6/site-packages/sklearn/cross_validation.py:41: DeprecationWarning: This module was deprecated in version 0.18 in favor of the model_selection module into which all the refactored classes and functions are moved. Also note that the interface of the new CV iterators are different from that of this module. This module will be removed in 0.20.\n",
      "  \"This module will be removed in 0.20.\", DeprecationWarning)\n",
      "/anaconda3/lib/python3.6/site-packages/sklearn/grid_search.py:42: DeprecationWarning: This module was deprecated in version 0.18 in favor of the model_selection module into which all the refactored classes and functions are moved. This module will be removed in 0.20.\n",
      "  DeprecationWarning)\n"
     ]
    }
   ],
   "source": [
    "import pandas as pd\n",
    "import numpy as np\n",
    "from sklearn.linear_model import LogisticRegression\n",
    "from sklearn.naive_bayes import MultinomialNB\n",
    "from sklearn import metrics\n",
    "from sklearn import model_selection\n",
    "\n",
    "import matplotlib.pyplot as plt\n",
    "import seaborn\n",
    "%matplotlib inline\n",
    "\n",
    "from sklearn.feature_extraction.text import TfidfVectorizer\n",
    "from sklearn.preprocessing import LabelEncoder\n",
    "from nltk.corpus import stopwords\n",
    "import string\n",
    "import re\n",
    "from sklearn.model_selection import StratifiedShuffleSplit\n",
    "from sklearn.model_selection import cross_val_score\n",
    "from sklearn import pipeline, cross_validation, preprocessing, metrics, grid_search\n",
    "from sklearn.grid_search import GridSearchCV\n",
    "from sklearn.metrics import f1_score\n",
    "from sklearn.metrics import classification_report\n",
    "from sklearn.metrics import confusion_matrix\n",
    "from nltk.stem.wordnet import WordNetLemmatizer\n",
    "from nltk.stem.porter import PorterStemmer\n",
    "import warnings\n",
    "warnings.filterwarnings('ignore')"
   ]
  },
  {
   "cell_type": "code",
   "execution_count": 2,
   "metadata": {},
   "outputs": [
    {
     "name": "stdout",
     "output_type": "stream",
     "text": [
      "[nltk_data] Downloading package wordnet to /Users/user/nltk_data...\n",
      "[nltk_data]   Package wordnet is already up-to-date!\n"
     ]
    },
    {
     "data": {
      "text/plain": [
       "True"
      ]
     },
     "execution_count": 2,
     "metadata": {},
     "output_type": "execute_result"
    }
   ],
   "source": [
    "import nltk\n",
    "nltk.download('wordnet')"
   ]
  },
  {
   "cell_type": "markdown",
   "metadata": {},
   "source": [
    "### Home task: Spam detection\n",
    "\n",
    "Для заданной тестовой выборки построить модель для предсказания является ли sms сообщение спамом.  \n",
    "На заданном разбиении (df_train, df_test) ваша модель должна превзойти baseline'ы, приведенные ниже.  \n",
    "\n",
    "Чем больше baseline'ов вы превзойдете, тем выше ваша оценка\n",
    "Метрика качества F1\n",
    "\n",
    "\n",
    "baseline 1: 0.9444      bag of words + Multinomial Naive Bayes  \n",
    "baseline 2: 0.9490      symbol 3-grams with IDF and l2-norm + Logistic Regression  \n",
    "baseline 3: 0.9636      text stemming + baseline 2  \n",
    "\n",
    "\n",
    "! Your results must be reproducible. Если ваша модель - стохастическая (как например LogisticRegression), то вы явно должны задавать все seed и random_state в параметрах моделей  \n",
    "! Вы должны использовать df_test только для измерения качества конечной обученной модели. "
   ]
  },
  {
   "cell_type": "code",
   "execution_count": 3,
   "metadata": {},
   "outputs": [
    {
     "data": {
      "text/html": [
       "<div>\n",
       "<style scoped>\n",
       "    .dataframe tbody tr th:only-of-type {\n",
       "        vertical-align: middle;\n",
       "    }\n",
       "\n",
       "    .dataframe tbody tr th {\n",
       "        vertical-align: top;\n",
       "    }\n",
       "\n",
       "    .dataframe thead th {\n",
       "        text-align: right;\n",
       "    }\n",
       "</style>\n",
       "<table border=\"1\" class=\"dataframe\">\n",
       "  <thead>\n",
       "    <tr style=\"text-align: right;\">\n",
       "      <th></th>\n",
       "      <th>target</th>\n",
       "      <th>text</th>\n",
       "    </tr>\n",
       "  </thead>\n",
       "  <tbody>\n",
       "    <tr>\n",
       "      <th>0</th>\n",
       "      <td>ham</td>\n",
       "      <td>Go until jurong point, crazy.. Available only ...</td>\n",
       "    </tr>\n",
       "    <tr>\n",
       "      <th>1</th>\n",
       "      <td>ham</td>\n",
       "      <td>Ok lar... Joking wif u oni...</td>\n",
       "    </tr>\n",
       "    <tr>\n",
       "      <th>2</th>\n",
       "      <td>spam</td>\n",
       "      <td>Free entry in 2 a wkly comp to win FA Cup fina...</td>\n",
       "    </tr>\n",
       "    <tr>\n",
       "      <th>3</th>\n",
       "      <td>ham</td>\n",
       "      <td>U dun say so early hor... U c already then say...</td>\n",
       "    </tr>\n",
       "    <tr>\n",
       "      <th>4</th>\n",
       "      <td>ham</td>\n",
       "      <td>Nah I don't think he goes to usf, he lives aro...</td>\n",
       "    </tr>\n",
       "  </tbody>\n",
       "</table>\n",
       "</div>"
      ],
      "text/plain": [
       "  target                                               text\n",
       "0    ham  Go until jurong point, crazy.. Available only ...\n",
       "1    ham                      Ok lar... Joking wif u oni...\n",
       "2   spam  Free entry in 2 a wkly comp to win FA Cup fina...\n",
       "3    ham  U dun say so early hor... U c already then say...\n",
       "4    ham  Nah I don't think he goes to usf, he lives aro..."
      ]
     },
     "execution_count": 3,
     "metadata": {},
     "output_type": "execute_result"
    }
   ],
   "source": [
    "#load dataset\n",
    "df = pd.read_csv('spam.csv', encoding='latin-1')\n",
    "df = df[['v1', 'v2']]\n",
    "df = df.rename(columns={'v1': 'target', 'v2': 'text'})\n",
    "df.head()"
   ]
  },
  {
   "cell_type": "code",
   "execution_count": 4,
   "metadata": {},
   "outputs": [
    {
     "data": {
      "text/plain": [
       "(5572, 2)"
      ]
     },
     "execution_count": 4,
     "metadata": {},
     "output_type": "execute_result"
    }
   ],
   "source": [
    "# dataset size\n",
    "df.shape"
   ]
  },
  {
   "cell_type": "code",
   "execution_count": 5,
   "metadata": {},
   "outputs": [
    {
     "data": {
      "text/plain": [
       "ham     0.865937\n",
       "spam    0.134063\n",
       "Name: target, dtype: float64"
      ]
     },
     "execution_count": 5,
     "metadata": {},
     "output_type": "execute_result"
    }
   ],
   "source": [
    "# class proportions\n",
    "df.target.value_counts(normalize=True)"
   ]
  },
  {
   "cell_type": "code",
   "execution_count": 6,
   "metadata": {},
   "outputs": [
    {
     "name": "stdout",
     "output_type": "stream",
     "text": [
      "train size 3343, test size 2229\n"
     ]
    }
   ],
   "source": [
    "# Use  df_train for model training\n",
    "# Use df_test as  hold-out dataset for your final model perfomance estimation.\n",
    "# You cannot change  this splitting\n",
    "# All results must be reproducible\n",
    "SEED = 1337\n",
    "df_train, df_test = model_selection.train_test_split(df, test_size=0.4, random_state=SEED, shuffle=True, stratify=df.target)\n",
    "print('train size %d, test size %d' % (df_train.shape[0], df_test.shape[0]))"
   ]
  },
  {
   "cell_type": "code",
   "execution_count": 7,
   "metadata": {},
   "outputs": [
    {
     "name": "stdout",
     "output_type": "stream",
     "text": [
      "feature matrix shape (3343, 6629)\n",
      "train 0.9774774774774775\n",
      "train 0.9444444444444444\n"
     ]
    }
   ],
   "source": [
    "# baseline 1\n",
    "from sklearn.feature_extraction.text import TfidfVectorizer\n",
    "from sklearn.preprocessing import LabelEncoder  \n",
    "\n",
    "# build binary feature matrix from BoW model\n",
    "vec = TfidfVectorizer(lowercase=True, analyzer='word', ngram_range=(1,1), norm=None, use_idf=False, binary=True)\n",
    "X = vec.fit_transform(df_train.text)\n",
    "print('feature matrix shape', X.shape)\n",
    "\n",
    "# encode class labels\n",
    "label_enc = LabelEncoder().fit(df_train.target)\n",
    "y_train = label_enc.transform(df_train.target)\n",
    "\n",
    "# fit our prediction model\n",
    "\n",
    "model = MultinomialNB(alpha=1.0)\n",
    "model.fit(X, y_train)\n",
    "print('train', metrics.f1_score(y_train, model.predict(X)))\n",
    "\n",
    "# perfomance on test dataset\n",
    "X_test = vec.transform(df_test.text)\n",
    "y_pred = model.predict(X_test)\n",
    "y_test = label_enc.transform(df_test.target)\n",
    "print('train', metrics.f1_score(y_test, model.predict(X_test)))"
   ]
  },
  {
   "cell_type": "code",
   "execution_count": 8,
   "metadata": {},
   "outputs": [
    {
     "name": "stdout",
     "output_type": "stream",
     "text": [
      "feature matrix shape (3343, 11830)\n",
      "Fitting 5 folds for each of 40 candidates, totalling 200 fits\n"
     ]
    },
    {
     "name": "stderr",
     "output_type": "stream",
     "text": [
      "[Parallel(n_jobs=-1)]: Done  76 tasks      | elapsed:    1.5s\n",
      "[Parallel(n_jobs=-1)]: Done 200 out of 200 | elapsed:    4.6s finished\n"
     ]
    },
    {
     "name": "stdout",
     "output_type": "stream",
     "text": [
      "best params {'C': 54555.947811685146, 'penalty': 'l2'}\n",
      "best estimator 0.9460712426581742\n",
      "train 1.0\n",
      "test 0.9490333919156415\n"
     ]
    }
   ],
   "source": [
    "# baseline 2\n",
    "from sklearn.feature_extraction.text import TfidfVectorizer\n",
    "from sklearn.preprocessing import LabelEncoder\n",
    "from sklearn.model_selection import GridSearchCV\n",
    "\n",
    "\n",
    "# build feature matrix from 3-grams\n",
    "# with l2-normalization and smoothed idf - look in docs for more details\n",
    "vec = TfidfVectorizer(lowercase=True, analyzer='char', ngram_range=(3,3), norm='l2', use_idf=True, smooth_idf=True)\n",
    "X = vec.fit_transform(df_train.text)\n",
    "print('feature matrix shape', X.shape)\n",
    "\n",
    "#encode labels\n",
    "label_enc = LabelEncoder().fit(df_train.target)\n",
    "y_train = label_enc.transform(df_train.target)\n",
    "\n",
    "# Logistic Regression classifier has several hyperparams\n",
    "# Optimize C (coeff before regularizer) and penalty (type of regularizer) using crossvalidation with grid search\n",
    "# Basically it means it will look over every combination of hyperparams in the specified region (or lattice)\n",
    "# and return the best one. \n",
    "# Look in docs  for more details\n",
    "grid = GridSearchCV(LogisticRegression(random_state=SEED), # our model \n",
    "                   param_grid={'C': np.logspace(0,5,20), # C in lattice [10^0...10^5]\n",
    "                               'penalty': ['l1', 'l2']}, \n",
    "                    scoring='f1', # our perfomance measure \n",
    "                    n_jobs=-1, # multithread \n",
    "                    cv=5, # 5-fold stratified cross-validation \n",
    "                    verbose=True, return_train_score=True)\n",
    "\n",
    "grid.fit(X, y_train)\n",
    "print('best params', grid.best_params_)\n",
    "print('best estimator', grid.best_score_)\n",
    "model = grid.best_estimator_\n",
    "\n",
    "# grid.best_estimator_ is already fitted on whole train dataset\n",
    "print('train', metrics.f1_score(y_train, model.predict(X)))\n",
    "\n",
    "# perfomance on test dataset\n",
    "X_test = vec.transform(df_test.text)\n",
    "y_pred = model.predict(X_test)\n",
    "y_test = label_enc.transform(df_test.target)\n",
    "print('test', metrics.f1_score(y_test, model.predict(X_test)))"
   ]
  },
  {
   "cell_type": "code",
   "execution_count": 9,
   "metadata": {},
   "outputs": [
    {
     "data": {
      "image/png": "[encoded data removed]",
      "text/plain": [
       "<matplotlib.figure.Figure at 0x1183d3a58>"
      ]
     },
     "metadata": {},
     "output_type": "display_data"
    }
   ],
   "source": [
    "# validation curves\n",
    "grid_df = pd.DataFrame(grid.cv_results_);\n",
    "grid_df = grid_df[['param_C', 'param_penalty', 'mean_train_score', 'std_train_score', 'mean_test_score', 'std_test_score']]\n",
    "fig, ax = plt.subplots(figsize=(14,5))\n",
    "for label, df in grid_df.groupby('param_penalty'):\n",
    "    df.plot(x='param_C', y='mean_train_score', yerr='std_train_score', logx=True, label=label + ' train',\n",
    "            ax=ax)\n",
    "    df.plot(x='param_C', y='mean_test_score', yerr='std_test_score', logx=True, label=label + ' test',\n",
    "            ax=ax)\n",
    "    plt.title('F1')"
   ]
  },
  {
   "cell_type": "code",
   "execution_count": 10,
   "metadata": {},
   "outputs": [
    {
     "name": "stdout",
     "output_type": "stream",
     "text": [
      "[nltk_data] Downloading package stopwords to /Users/user/nltk_data...\n",
      "[nltk_data]   Package stopwords is already up-to-date!\n"
     ]
    },
    {
     "data": {
      "text/plain": [
       "True"
      ]
     },
     "execution_count": 10,
     "metadata": {},
     "output_type": "execute_result"
    }
   ],
   "source": [
    "import nltk\n",
    "nltk.download('stopwords')"
   ]
  },
  {
   "cell_type": "code",
   "execution_count": 11,
   "metadata": {},
   "outputs": [
    {
     "name": "stdout",
     "output_type": "stream",
     "text": [
      "feature matrix shape (3343, 2393)\n",
      "Fitting 5 folds for each of 20 candidates, totalling 100 fits\n",
      "{'C': 100000.0, 'penalty': 'l2'}\n",
      "0.9440632976282287\n",
      "train 1.0\n",
      "test 0.9636048526863085\n"
     ]
    },
    {
     "name": "stderr",
     "output_type": "stream",
     "text": [
      "[Parallel(n_jobs=-1)]: Done 100 out of 100 | elapsed:    0.8s finished\n"
     ]
    }
   ],
   "source": [
    "# baseline 3\n",
    "\n",
    "from sklearn.feature_extraction.text import TfidfVectorizer\n",
    "from sklearn.preprocessing import LabelEncoder\n",
    "from sklearn.model_selection import GridSearchCV\n",
    "from nltk.stem import SnowballStemmer\n",
    "from nltk.corpus import stopwords\n",
    "import string\n",
    "import re\n",
    "\n",
    "\n",
    "stemmer = SnowballStemmer(\"english\")\n",
    "regex = re.compile('[%s]' % re.escape(string.punctuation))\n",
    "\n",
    "# basic preprocessing\n",
    "# make lowercase, remove punctuation and make stemming\n",
    "def text_process(text):\n",
    "    text = text.lower()\n",
    "    text = regex.sub(' ', text)\n",
    "    text = [stemmer.stem(word) for word in text.split() if word not in stopwords.words('english')]\n",
    "    return \" \".join(text)\n",
    "\n",
    "\n",
    "df_train['text2'] = df_train.text.apply(text_process)\n",
    "df_test['text2'] = df_test.text.apply(text_process)\n",
    "df_train.head()\n",
    "\n",
    "# build feature matrix from 3-grams\n",
    "vec = TfidfVectorizer(lowercase=True, analyzer='char', ngram_range=(3,3), \n",
    "                      min_df=10, # exclude 3-grams appeared in less then 10 messages. \n",
    "                      use_idf=True)\n",
    "X = vec.fit_transform(df_train.text2)\n",
    "print('feature matrix shape', X.shape)\n",
    "\n",
    "#encode labels\n",
    "label_enc = LabelEncoder().fit(df_train.target)\n",
    "y_train = label_enc.transform(df_train.target)\n",
    "\n",
    "# optimize  hyperparams\n",
    "grid = GridSearchCV(LogisticRegression(random_state=SEED), \n",
    "                   param_grid={'C': np.logspace(0,5,10), \n",
    "                               'penalty': ['l1', 'l2']}, \n",
    "                    scoring='f1', n_jobs=-1, cv=5, verbose=True, return_train_score=True)\n",
    "\n",
    "grid.fit(X, y_train)\n",
    "print(grid.best_params_)\n",
    "print(grid.best_score_)\n",
    "model = grid.best_estimator_\n",
    "print('train', metrics.f1_score(y_train, model.predict(X)))\n",
    "\n",
    "X_test = vec.transform(df_test.text2)\n",
    "y_pred = model.predict(X_test)\n",
    "y_test = label_enc.transform(df_test.target)\n",
    "print('test', metrics.f1_score(y_test, model.predict(X_test)))"
   ]
  },
  {
   "cell_type": "code",
   "execution_count": 12,
   "metadata": {
    "scrolled": true
   },
   "outputs": [
    {
     "data": {
      "image/png": "[encoded data removed]",
      "text/plain": [
       "<matplotlib.figure.Figure at 0x117c245c0>"
      ]
     },
     "metadata": {},
     "output_type": "display_data"
    }
   ],
   "source": [
    "# validation curves\n",
    "grid_df = pd.DataFrame(grid.cv_results_);\n",
    "grid_df = grid_df[['param_C', 'param_penalty', 'mean_train_score', 'std_train_score', 'mean_test_score', 'std_test_score']]\n",
    "fig, ax = plt.subplots(figsize=(16,6))\n",
    "for label, df in grid_df.groupby('param_penalty'):\n",
    "    df.plot(x='param_C', y='mean_train_score', yerr='std_train_score', logx=True, label=label + ' train',\n",
    "            alpha=0.7,\n",
    "            ax=ax)\n",
    "    df.plot(x='param_C', y='mean_test_score', yerr='std_test_score', logx=True, label=label + ' test',\n",
    "            alpha=0.7,\n",
    "            ax=ax)\n",
    "    plt.title('F1')"
   ]
  },
  {
   "cell_type": "markdown",
   "metadata": {},
   "source": [
    "###### Повышение качества"
   ]
  },
  {
   "cell_type": "code",
   "execution_count": 13,
   "metadata": {},
   "outputs": [
    {
     "name": "stdout",
     "output_type": "stream",
     "text": [
      "train size 3343, test size 2229\n"
     ]
    }
   ],
   "source": [
    "df = pd.read_csv('spam.csv', encoding='latin-1')\n",
    "df = df[['v1', 'v2']]\n",
    "df = df.rename(columns={'v1': 'target', 'v2': 'text'})\n",
    "\n",
    "def clean(text):\n",
    "    stop = set(stopwords.words('english'))\n",
    "    exclude = set(string.punctuation) \n",
    "    lemma = WordNetLemmatizer()\n",
    "    porter= PorterStemmer()\n",
    "    \n",
    "    text=text.rstrip()\n",
    "    text = re.sub(r'[^a-zA-Z]', ' ', text)\n",
    "    stop_free = \" \".join([i for i in text.lower().split() if((i not in stop))])\n",
    "    punc_free = ''.join(ch for ch in stop_free if ch not in exclude)\n",
    "    normalized = \" \".join(lemma.lemmatize(word) for word in punc_free.split())\n",
    "    stem = \" \".join(porter.stem(token) for token in normalized.split())\n",
    "    \n",
    "    return (normalized, stem)\n",
    "\n",
    "df['text_1'] = df['text'].apply(lambda x: clean(x)[0])\n",
    "df['text_2'] = df['text'].apply(lambda x: clean(x)[1])\n",
    "\n",
    "SEED = 1337\n",
    "df_train, df_test = model_selection.train_test_split(df, test_size=0.4, random_state=SEED, shuffle=True, stratify=df.target)\n",
    "print('train size %d, test size %d' % (df_train.shape[0], df_test.shape[0]))"
   ]
  },
  {
   "cell_type": "code",
   "execution_count": 14,
   "metadata": {},
   "outputs": [
    {
     "name": "stdout",
     "output_type": "stream",
     "text": [
      "LogisticRegression(C=16237.767391887242, class_weight=None, dual=False,\n",
      "          fit_intercept=True, intercept_scaling=1, max_iter=100,\n",
      "          multi_class='ovr', n_jobs=1, penalty='l2', random_state=1337,\n",
      "          solver='liblinear', tol=0.0001, verbose=0, warm_start=False)\n",
      "best f1_score 0.8971304908047233\n",
      "\n",
      "f1 score test 0.9462738301559791\n",
      "             precision    recall  f1-score   support\n",
      "\n",
      "          0       1.00      0.99      0.99      1951\n",
      "          1       0.91      0.98      0.95       278\n",
      "\n",
      "avg / total       0.99      0.99      0.99      2229\n",
      "\n",
      "[[1925   26]\n",
      " [   5  273]]\n",
      "\n",
      "\n",
      "0.9462738301559791 > 0.9444 True\n",
      "WIN score_best1!\n"
     ]
    }
   ],
   "source": [
    "vect_tfidf_word = TfidfVectorizer(analyzer='word', use_idf=True)\n",
    "X_train_word = vect_tfidf_word.fit_transform(df_train['text_2'])\n",
    "X_test_word = vect_tfidf_word.transform(df_test['text_2'])\n",
    "\n",
    "label_enc = LabelEncoder().fit(df_train.target)\n",
    "y_train = label_enc.transform(df_train.target)\n",
    "y_test = label_enc.transform(df_test.target)\n",
    "\n",
    "\n",
    "parameters = [{'C': np.logspace(-10,5,20), 'penalty': ['l1','l2'],\n",
    "                               'tol':np.logspace(-6,-4,3)}]\n",
    "clf = LogisticRegression(random_state= SEED)\n",
    "skf = cross_validation.StratifiedKFold(y_train, n_folds=5)\n",
    "\n",
    "gs_word = GridSearchCV(clf, parameters, cv=skf, scoring='f1')\n",
    "gs_word.fit(X_train_word, y_train)\n",
    "print(gs_word.best_estimator_)\n",
    "print('best f1_score', gs_word.best_score_)\n",
    "\n",
    "clf_word = gs_word.best_estimator_ \n",
    "clf_word.fit(X_train_word, y_train)\n",
    "\n",
    "print()\n",
    "y_pred = clf_word.predict(X_test_word)\n",
    "score = f1_score(y_pred, y_test)\n",
    "print('f1 score test', score)\n",
    "print(classification_report(y_pred, y_test))\n",
    "print(confusion_matrix(y_pred, y_test))\n",
    "\n",
    "\n",
    "\n",
    "score_best1 = 0.9444\n",
    "score_best2 = 0.9490\n",
    "score_best3 = 0.9636\n",
    "print('\\n')\n",
    "if score > score_best1 and score < score_best2:\n",
    "    print(score, '>' , score_best1, score > score_best1)\n",
    "    print('WIN score_best1!')\n",
    "elif score > score_best2 and score < score_best3:\n",
    "    print(score, '>' , score_best2, score > score_best2)\n",
    "    print('WIN score_best2!')\n",
    "elif score > score_best3:\n",
    "    print(score, '>' , score_best3, score > score_best3)\n",
    "    print('WIN score_best3!')\n",
    "    "
   ]
  },
  {
   "cell_type": "code",
   "execution_count": 15,
   "metadata": {},
   "outputs": [
    {
     "name": "stdout",
     "output_type": "stream",
     "text": [
      "LogisticRegression(C=100000.0, class_weight=None, dual=False,\n",
      "          fit_intercept=True, intercept_scaling=1, max_iter=100,\n",
      "          multi_class='ovr', n_jobs=1, penalty='l2', random_state=1337,\n",
      "          solver='liblinear', tol=0.0001, verbose=0, warm_start=False)\n",
      "best f1_score 0.9273321698935822\n",
      "\n",
      "f1 score test 0.9488054607508534\n",
      "             precision    recall  f1-score   support\n",
      "\n",
      "          0       1.00      0.99      0.99      1942\n",
      "          1       0.93      0.97      0.95       287\n",
      "\n",
      "avg / total       0.99      0.99      0.99      2229\n",
      "\n",
      "[[1921   21]\n",
      " [   9  278]]\n",
      "\n",
      "\n",
      "0.9488054607508534 > 0.9444 True\n",
      "WIN score_best1!\n"
     ]
    }
   ],
   "source": [
    "vect_tfidf_char= TfidfVectorizer(analyzer='char', ngram_range=(2, 3), use_idf=True)\n",
    "X_train_char = vect_tfidf_char.fit_transform(df_train['text_2'])\n",
    "X_test_char = vect_tfidf_char.transform(df_test['text_2'])\n",
    "\n",
    "label_enc = LabelEncoder().fit(df_train.target)\n",
    "y_train = label_enc.transform(df_train.target)\n",
    "y_test = label_enc.transform(df_test.target)\n",
    "\n",
    "parameters = [{'C': np.logspace(-10,5,20), 'penalty': ['l1','l2'],\n",
    "                               'tol':np.logspace(-6,-4,3)}]\n",
    "clf = LogisticRegression(random_state= SEED)\n",
    "skf = cross_validation.StratifiedKFold(y_train, n_folds=4)\n",
    "\n",
    "gs_char = GridSearchCV(clf, parameters, cv=skf, scoring='f1')\n",
    "gs_char.fit(X_train_char, y_train)\n",
    "print(gs_char.best_estimator_)\n",
    "print('best f1_score', gs_char.best_score_)\n",
    "\n",
    "clf_char = gs_char.best_estimator_ \n",
    "clf_char.fit(X_train_char, y_train)\n",
    "\n",
    "print()\n",
    "y_pred = clf_char.predict(X_test_char)\n",
    "score = f1_score(y_pred, y_test)\n",
    "print('f1 score test', score)\n",
    "print(classification_report(y_pred, y_test))\n",
    "print(confusion_matrix(y_pred, y_test))\n",
    "\n",
    "\n",
    "score_best1 = 0.9444\n",
    "score_best2 = 0.9490\n",
    "score_best3 = 0.9636\n",
    "print('\\n')\n",
    "if score > score_best1 and score < score_best2:\n",
    "    print(score, '>' , score_best1, score > score_best1)\n",
    "    print('WIN score_best1!')\n",
    "elif score > score_best2 and score < score_best3:\n",
    "    print(score, '>' , score_best2, score > score_best2)\n",
    "    print('WIN score_best2!')\n",
    "elif score > score_best3:\n",
    "    print(score, '>' , score_best3, score > score_best3)\n",
    "    print('WIN score_best3!')"
   ]
  },
  {
   "cell_type": "code",
   "execution_count": 16,
   "metadata": {},
   "outputs": [
    {
     "name": "stdout",
     "output_type": "stream",
     "text": [
      "a: 0.7000000000000001 b: 0.6 m: 0.59 score: 0.9550173010380624\n",
      "\n",
      "\n",
      "0.9550173010380624 > 0.949 True\n",
      "WIN score_best2!\n"
     ]
    }
   ],
   "source": [
    "m_ = 0\n",
    "score_ = 0\n",
    "a_ = 0\n",
    "b_ = 0\n",
    "for a in np.arange(0.1, 1., 0.1):\n",
    "    for b in np.arange(0.1, 1., 0.1):\n",
    "        y_pred_prob = clf_word.predict_proba(X_test_word)[:,1] * a + clf_char.predict_proba(X_test_char)[:,1] *b\n",
    "\n",
    "        for m in np.arange(0.0, 1.01, 0.01):\n",
    "            y_pred = (y_pred_prob > m).astype(int)\n",
    "            score = metrics.f1_score(y_test, y_pred)\n",
    "            if score >= score_:\n",
    "                score_ = score\n",
    "                m_ = m\n",
    "                a_ = a\n",
    "                b_ = b\n",
    "\n",
    "print('a:', a_, 'b:', b_, 'm:', m_ , 'score:', score_)\n",
    "        \n",
    "        \n",
    "score = score_\n",
    "score_best1 = 0.9444\n",
    "score_best2 = 0.9490\n",
    "score_best3 = 0.9636\n",
    "print('\\n')\n",
    "if score > score_best1 and score < score_best2:\n",
    "    print(score, '>' , score_best1, score > score_best1)\n",
    "    print('WIN score_best1!')\n",
    "elif score > score_best2 and score < score_best3:\n",
    "    print(score, '>' , score_best2, score > score_best2)\n",
    "    print('WIN score_best2!')\n",
    "elif score > score_best3:\n",
    "    print(score, '>' , score_best3, score > score_best3)\n",
    "    print('WIN score_best3!')"
   ]
  },
  {
   "cell_type": "code",
   "execution_count": 17,
   "metadata": {},
   "outputs": [
    {
     "name": "stdout",
     "output_type": "stream",
     "text": [
      "a: 0.9 b: 0.2 m: 0.59 score: 0.9653979238754326\n",
      "\n",
      "\n",
      "0.9653979238754326 > 0.9636 True\n",
      "WIN score_best3!\n"
     ]
    }
   ],
   "source": [
    "m_ = 0\n",
    "score_ = 0\n",
    "a_ = 0\n",
    "b_ = 0\n",
    "for a in np.arange(0.1, 1., 0.1):\n",
    "    for b in np.arange(0.1, 1., 0.1):\n",
    "        y_pred_prob = model.predict_proba(X_test)[:,1] * a + clf_char.predict_proba(X_test_char)[:,1] *b\n",
    "\n",
    "        for m in np.arange(0.0, 1.01, 0.01):\n",
    "            y_pred = (y_pred_prob > m).astype(int)\n",
    "            score = metrics.f1_score(y_test, y_pred)\n",
    "            if score >= score_:\n",
    "                score_ = score\n",
    "                m_ = m\n",
    "                a_ = a\n",
    "                b_ = b\n",
    "\n",
    "print('a:', a_, 'b:', b_, 'm:', m_ , 'score:', score_)\n",
    "        \n",
    "        \n",
    "score = score_\n",
    "score_best1 = 0.9444\n",
    "score_best2 = 0.9490\n",
    "score_best3 = 0.9636\n",
    "print('\\n')\n",
    "if score > score_best1 and score < score_best2:\n",
    "    print(score, '>' , score_best1, score > score_best1)\n",
    "    print('WIN score_best1!')\n",
    "elif score > score_best2 and score < score_best3:\n",
    "    print(score, '>' , score_best2, score > score_best2)\n",
    "    print('WIN score_best2!')\n",
    "elif score > score_best3:\n",
    "    print(score, '>' , score_best3, score > score_best3)\n",
    "    print('WIN score_best3!')"
   ]
  },
  {
   "cell_type": "code",
   "execution_count": null,
   "metadata": {},
   "outputs": [],
   "source": []
  }
 ],
 "metadata": {
  "kernelspec": {
   "display_name": "Python 3",
   "language": "python",
   "name": "python3"
  },
  "language_info": {
   "codemirror_mode": {
    "name": "ipython",
    "version": 3
   },
   "file_extension": ".py",
   "mimetype": "text/x-python",
   "name": "python",
   "nbconvert_exporter": "python",
   "pygments_lexer": "ipython3",
   "version": "3.6.4"
  },
  "widgets": {
   "state": {},
   "version": "1.1.2"
  }
 },
 "nbformat": 4,
 "nbformat_minor": 2
}
