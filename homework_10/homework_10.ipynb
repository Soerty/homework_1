{
 "cells": [
  {
   "cell_type": "markdown",
   "metadata": {},
   "source": [
    "# По материалам 16 семинара провести исследование по тематическому моделированию и разработать рекомендательную систему.\n",
    "\n",
    "* рекомендательная система обучается на корпусе текстов, в качестве корпуса текстов использовать 20 news groups из scikit-learn\n",
    "* пользователь предъявляет образец текста (не обязательно из обучающего корпуса) и просит показать k похожих по тематике текстов\n",
    "* в качестве моделей для тематического моделирования рассмотреть NMF, LSA, LDA\n",
    "* в качестве метрик topic coherence рассмотреть TC-W2C, UCI, Umass для топ-20 слов-дескрипторов тем\n",
    "* для каждой тематической модели определить оптимальное кол-во тем, а затем сравнить сами модели с помощью метрик topic coherence\n",
    "* при выборе оптимального кол-ва тем постройте проверяйте дескрипторы тем\n",
    "* таким образом, для каждой метрики вы получите свою оптимальную модель. Сравните дескрипторы тем у этих моделей, и выберите\n",
    "* таким образом, вы получите тематическое представление для каждого документа. Выберите функцию расстояния между документами, посмотрите sklearn.metrics\n",
    "* при поиске ближайших соседей используйте sklearn.neighbors\n",
    "* работу оформить в виде ноутбука *.ipynb\n",
    "* продемонстрируйте работу вашей рекомендательной системы на текстах из обучающего корпуса и текстах из bbc news за 2017 год\n",
    "* Интерфейс рекомендательной ситемы:"
   ]
  },
  {
   "cell_type": "markdown",
   "metadata": {},
   "source": [
    "# В качестве метрики расстояния между документами возьмем коэффициент Отиаи"
   ]
  },
  {
   "cell_type": "markdown",
   "metadata": {},
   "source": [
    "# Импорты для nmf"
   ]
  },
  {
   "cell_type": "code",
   "execution_count": 1,
   "metadata": {},
   "outputs": [],
   "source": [
    "import numpy as np\n",
    "import pandas as pd\n",
    "import matplotlib.pyplot as plt\n",
    "from sklearn.decomposition import NMF\n",
    "from sklearn.externals import joblib\n",
    "from sklearn import metrics\n",
    "from tqdm import tqdm\n",
    "\n",
    "%matplotlib inline\n",
    "plt.rcParams['figure.figsize'] = (10.0, 8.0) # set default size of plots\n",
    "plt.rcParams['image.interpolation'] = 'nearest'\n",
    "plt.rcParams['image.cmap'] = 'gray'"
   ]
  },
  {
   "cell_type": "markdown",
   "metadata": {},
   "source": [
    "# Структура newsgroups_train:\n",
    "    newsgroups_train.DESCR - дескрипшн\n",
    "    newsgroups_train.data - данные, длина = 11314, содержат 11314 писем со своим хедером, телом и футером\n",
    "    newsgroups_train.target - массив таргетов\n",
    "    newsgroups_train.target_names - массив дескрипшнов для таргетов, длина - 20, лейблы от 0 до 19"
   ]
  },
  {
   "cell_type": "code",
   "execution_count": 2,
   "metadata": {},
   "outputs": [],
   "source": [
    "from sklearn.datasets import fetch_20newsgroups"
   ]
  },
  {
   "cell_type": "code",
   "execution_count": 4,
   "metadata": {},
   "outputs": [],
   "source": [
    "newsgroups_train = fetch_20newsgroups(subset='train',\n",
    "                                     remove=('headers', 'footers', 'quotes'));"
   ]
  },
  {
   "cell_type": "markdown",
   "metadata": {},
   "source": [
    "Удалим мусор в виде хедеров и прочего"
   ]
  },
  {
   "cell_type": "markdown",
   "metadata": {},
   "source": [
    "# Получаем вполне читабельный текст"
   ]
  },
  {
   "cell_type": "code",
   "execution_count": 5,
   "metadata": {},
   "outputs": [
    {
     "data": {
      "text/plain": [
       "'I was wondering if anyone out there could enlighten me on this car I saw\\nthe other day. It was a 2-door sports car, looked to be from the late 60s/\\nearly 70s. It was called a Bricklin. The doors were really small. In addition,\\nthe front bumper was separate from the rest of the body. This is \\nall I know. If anyone can tellme a model name, engine specs, years\\nof production, where this car is made, history, or whatever info you\\nhave on this funky looking car, please e-mail.'"
      ]
     },
     "execution_count": 5,
     "metadata": {},
     "output_type": "execute_result"
    }
   ],
   "source": [
    "newsgroups_train.data[0]"
   ]
  },
  {
   "cell_type": "code",
   "execution_count": 6,
   "metadata": {},
   "outputs": [
    {
     "data": {
      "text/plain": [
       "['alt.atheism',\n",
       " 'comp.graphics',\n",
       " 'comp.os.ms-windows.misc',\n",
       " 'comp.sys.ibm.pc.hardware',\n",
       " 'comp.sys.mac.hardware',\n",
       " 'comp.windows.x',\n",
       " 'misc.forsale',\n",
       " 'rec.autos',\n",
       " 'rec.motorcycles',\n",
       " 'rec.sport.baseball',\n",
       " 'rec.sport.hockey',\n",
       " 'sci.crypt',\n",
       " 'sci.electronics',\n",
       " 'sci.med',\n",
       " 'sci.space',\n",
       " 'soc.religion.christian',\n",
       " 'talk.politics.guns',\n",
       " 'talk.politics.mideast',\n",
       " 'talk.politics.misc',\n",
       " 'talk.religion.misc']"
      ]
     },
     "execution_count": 6,
     "metadata": {},
     "output_type": "execute_result"
    }
   ],
   "source": [
    "newsgroups_train.target_names"
   ]
  },
  {
   "cell_type": "markdown",
   "metadata": {},
   "source": [
    "# Делаем препроцессинг данных"
   ]
  },
  {
   "cell_type": "code",
   "execution_count": 7,
   "metadata": {},
   "outputs": [
    {
     "data": {
      "text/plain": [
       "'i was wondering if anyone out there could enlighten me on this car i saw\\nthe other day. it was a 2-d'"
      ]
     },
     "execution_count": 7,
     "metadata": {},
     "output_type": "execute_result"
    }
   ],
   "source": [
    "newsgroups_train.data[0].lower()[0:100]"
   ]
  },
  {
   "cell_type": "code",
   "execution_count": 8,
   "metadata": {},
   "outputs": [
    {
     "name": "stdout",
     "output_type": "stream",
     "text": [
      "Read 11314 raw text documents\n"
     ]
    }
   ],
   "source": [
    "raw_documents = []\n",
    "snippets = []\n",
    "for line in newsgroups_train.data:\n",
    "    text = line.strip()\n",
    "    raw_documents.append(text.lower())\n",
    "        \n",
    "    snippets.append(text[0 : min(len(text), 100)])\n",
    "print(\"Read %d raw text documents\" % len(raw_documents))"
   ]
  },
  {
   "cell_type": "code",
   "execution_count": 9,
   "metadata": {},
   "outputs": [
    {
     "data": {
      "text/plain": [
       "'A fair number of brave souls who upgraded their SI clock oscillator have\\nshared their experiences fo'"
      ]
     },
     "execution_count": 9,
     "metadata": {},
     "output_type": "execute_result"
    }
   ],
   "source": [
    "snippets[1]"
   ]
  },
  {
   "cell_type": "markdown",
   "metadata": {},
   "source": [
    "# Загружаем стопворды"
   ]
  },
  {
   "cell_type": "code",
   "execution_count": 10,
   "metadata": {},
   "outputs": [
    {
     "name": "stdout",
     "output_type": "stream",
     "text": [
      "Stopword list has 350 entries\n"
     ]
    }
   ],
   "source": [
    "custom_stop_words = []\n",
    "with open(\"stopwords.txt\", \"r\") as f:\n",
    "    for line in f.readlines(): custom_stop_words.append(line.strip().lower())\n",
    "\n",
    "print(\"Stopword list has %d entries\" % len(custom_stop_words))"
   ]
  },
  {
   "cell_type": "markdown",
   "metadata": {},
   "source": [
    "# Создаем ${TF-IDF}$ модель."
   ]
  },
  {
   "cell_type": "code",
   "execution_count": 11,
   "metadata": {},
   "outputs": [
    {
     "name": "stdout",
     "output_type": "stream",
     "text": [
      "Created 11314 X 6004 TF-IDF-normalized document-term matrix\n"
     ]
    },
    {
     "data": {
      "text/plain": [
       "['my-articles.pkl']"
      ]
     },
     "execution_count": 11,
     "metadata": {},
     "output_type": "execute_result"
    }
   ],
   "source": [
    "from sklearn.feature_extraction.text import TfidfVectorizer\n",
    "\n",
    "\n",
    "vectorizer = TfidfVectorizer(stop_words=custom_stop_words, min_df=20)\n",
    "A = vectorizer.fit_transform(raw_documents)\n",
    "\n",
    "print(\"Created %d X %d TF-IDF-normalized document-term matrix\" % (A.shape[0], A.shape[1]))\n",
    "terms = vectorizer.get_feature_names()\n",
    "joblib.dump((A,terms,snippets), \"my-articles.pkl\") # сохраняем дамп матрицы, термов и сниппетов"
   ]
  },
  {
   "cell_type": "markdown",
   "metadata": {},
   "source": [
    "# Попробуем в качестве метрики расстояния между документами ${d_i}$ и ${d_j}$ брать MSE между строками ${tf-idf}$ или ${W2V}$ матрицы, где ${k}$-той строке соответствует документ ${d_{k}}$, можно брать и метрику MAE, но MSE более чувствительна к ошибкам, то есть если МАЕ между документами ${d_i}$ и ${d_j}$ большая, то MSE может быть много больше MAE\n",
    "\n",
    "# Пример"
   ]
  },
  {
   "cell_type": "code",
   "execution_count": 62,
   "metadata": {},
   "outputs": [],
   "source": [
    "s1 = \"Шоколад - хорошее средство снятия стресса и\".lower()\n",
    "s2 = \"Шоколад - популярный средство  для облегчения стресса\".lower()\n",
    "s3 = \"Кролик это хищное животное, не поедающее шоколад\".lower()"
   ]
  },
  {
   "cell_type": "code",
   "execution_count": 63,
   "metadata": {},
   "outputs": [],
   "source": [
    "kl = [s1, s2, s3]"
   ]
  },
  {
   "cell_type": "code",
   "execution_count": 64,
   "metadata": {},
   "outputs": [],
   "source": [
    "v = TfidfVectorizer()"
   ]
  },
  {
   "cell_type": "code",
   "execution_count": 65,
   "metadata": {},
   "outputs": [],
   "source": [
    "m = v.fit_transform(kl)"
   ]
  },
  {
   "cell_type": "code",
   "execution_count": 66,
   "metadata": {},
   "outputs": [],
   "source": [
    "m = m.todense()"
   ]
  },
  {
   "cell_type": "code",
   "execution_count": 67,
   "metadata": {},
   "outputs": [
    {
     "data": {
      "text/plain": [
       "(3, 14)"
      ]
     },
     "execution_count": 67,
     "metadata": {},
     "output_type": "execute_result"
    }
   ],
   "source": [
    "m.shape"
   ]
  },
  {
   "cell_type": "code",
   "execution_count": 68,
   "metadata": {},
   "outputs": [
    {
     "data": {
      "text/plain": [
       "0.08873702187314417"
      ]
     },
     "execution_count": 68,
     "metadata": {},
     "output_type": "execute_result"
    }
   ],
   "source": [
    "sklearn.metrics.mean_squared_error(m[0], m[1]) # s1 и s2"
   ]
  },
  {
   "cell_type": "code",
   "execution_count": 69,
   "metadata": {},
   "outputs": [
    {
     "data": {
      "text/plain": [
       "0.13353988333151798"
      ]
     },
     "execution_count": 69,
     "metadata": {},
     "output_type": "execute_result"
    }
   ],
   "source": [
    "sklearn.metrics.mean_squared_error(m[1], m[2]) # s2 и s3"
   ]
  },
  {
   "cell_type": "code",
   "execution_count": 71,
   "metadata": {},
   "outputs": [
    {
     "data": {
      "text/plain": [
       "0.13229424774043605"
      ]
     },
     "execution_count": 71,
     "metadata": {},
     "output_type": "execute_result"
    }
   ],
   "source": [
    "sklearn.metrics.mean_squared_error(m[0], m[2]) # s1 и s3"
   ]
  },
  {
   "cell_type": "markdown",
   "metadata": {},
   "source": [
    "# Как мы можем видеть, метрика также вполне имеет место быть"
   ]
  },
  {
   "cell_type": "markdown",
   "metadata": {},
   "source": [
    "# Мы получили нормализованную матрицу ${A_{(11314x6004)}}$ вида терм-документ, где на i,j-той позиции находится частотная характеристика j-го терма в i-том документе"
   ]
  },
  {
   "cell_type": "markdown",
   "metadata": {},
   "source": [
    "# Взглянем на термы, имеющие максимальную частоту"
   ]
  },
  {
   "cell_type": "code",
   "execution_count": 12,
   "metadata": {},
   "outputs": [
    {
     "name": "stdout",
     "output_type": "stream",
     "text": [
      "know (183.69)\n",
      "get (172.95)\n",
      "people (160.03)\n",
      "think (156.97)\n",
      "good (133.11)\n",
      "thanks (133.07)\n",
      "time (127.37)\n",
      "please (118.39)\n",
      "edu (108.17)\n",
      "see (102.61)\n",
      "god (101.83)\n",
      "need (101.57)\n",
      "way (100.23)\n",
      "want (98.14)\n",
      "right (97.48)\n",
      "problem (95.40)\n",
      "system (94.64)\n",
      "windows (93.58)\n",
      "something (90.52)\n",
      "really (89.58)\n"
     ]
    }
   ],
   "source": [
    "import operator\n",
    "\n",
    "sums = np.array(A.sum(axis=0)).ravel()\n",
    "\n",
    "weights = { term: sums[col] for col, term in enumerate(terms)}\n",
    "ranking = sorted(weights.items(), key=operator.itemgetter(1), reverse=True)\n",
    "for i, pair in enumerate(ranking[0:20]): print(\"%s (%.2f)\" % (pair[0], pair[1]))"
   ]
  },
  {
   "cell_type": "markdown",
   "metadata": {},
   "source": [
    "# В общем и целом статистика похожа на слова, часто применяемые в переписке"
   ]
  },
  {
   "cell_type": "markdown",
   "metadata": {},
   "source": [
    "# Создаем модель\n",
    "# Предполагаем, что ${A ≈ WH}$ , тогда минимизируем функционал \n",
    "# $min_{W, H}{||A - WH||}$"
   ]
  },
  {
   "cell_type": "markdown",
   "metadata": {},
   "source": [
    "${Целевая \\space функция: \n",
    "0.5 * ||A - WH||_{^2} + \\alpha * L_1 * ||W||_1\n",
    "+ \\alpha * L_1 * ||H||_1\n",
    "+ \\alpha / 2 * (1 - L_1) * ||W||_2\n",
    "+ \\alpha / 2 * (1 - L_1) * ||H||_2\n",
    "}$"
   ]
  },
  {
   "cell_type": "markdown",
   "metadata": {},
   "source": [
    "${Где: ||A||_{2} = \\sum_{i,j} A_{ij}^2, \\space \n",
    "||A||_1 = \\sum_{i,j} abs(A_{ij})}$"
   ]
  },
  {
   "cell_type": "code",
   "execution_count": 236,
   "metadata": {},
   "outputs": [],
   "source": [
    "k = 20\n",
    "model = NMF(init=\"nndsvd\", n_components=k) \n",
    "\n",
    "W = model.fit_transform( A )\n",
    "H = model.components_"
   ]
  },
  {
   "cell_type": "code",
   "execution_count": 237,
   "metadata": {},
   "outputs": [
    {
     "data": {
      "text/plain": [
       "((11314, 20), (20, 6004))"
      ]
     },
     "execution_count": 237,
     "metadata": {},
     "output_type": "execute_result"
    }
   ],
   "source": [
    "(W.shape, H.shape)"
   ]
  },
  {
   "cell_type": "markdown",
   "metadata": {},
   "source": [
    "# Проверим размерность"
   ]
  },
  {
   "cell_type": "code",
   "execution_count": 238,
   "metadata": {},
   "outputs": [
    {
     "data": {
      "text/plain": [
       "True"
      ]
     },
     "execution_count": 238,
     "metadata": {},
     "output_type": "execute_result"
    }
   ],
   "source": [
    "A.shape == np.matmul(W, H).shape"
   ]
  },
  {
   "cell_type": "code",
   "execution_count": 239,
   "metadata": {},
   "outputs": [
    {
     "data": {
      "text/plain": [
       "973"
      ]
     },
     "execution_count": 239,
     "metadata": {},
     "output_type": "execute_result"
    }
   ],
   "source": [
    "np.argsort(H[2,:])[::-1][1]"
   ]
  },
  {
   "cell_type": "markdown",
   "metadata": {},
   "source": [
    "# Проверим корректность кластеризации"
   ]
  },
  {
   "cell_type": "code",
   "execution_count": 242,
   "metadata": {},
   "outputs": [
    {
     "name": "stdout",
     "output_type": "stream",
     "text": [
      "Claster  1: get, good, time, back, going, want, really, go, got, bike, see\n",
      "Claster  2: thanks, please, mail, advance, hi, looking, email, info, address, send, post\n",
      "Claster  3: geb, cadre, dsl, n3jxp, chastity, shameful, pitt, intellect, skepticism, surrender, gordon\n",
      "Claster  4: god, jesus, bible, christ, faith, believe, christian, christians, church, life, sin\n",
      "Claster  5: key, chip, encryption, clipper, keys, government, escrow, system, algorithm, public, security\n",
      "Claster  6: drive, scsi, drives, disk, hard, ide, controller, floppy, cd, system, hd\n",
      "Claster  7: windows, dos, version, running, os, microsoft, drivers, nt, run, driver, system\n",
      "Claster  8: 10, 11, 12, 15, 16, 14, 17, 20, 13, 25, 24\n",
      "Claster  9: 00, sale, shipping, offer, price, condition, asking, interested, 50, best, sell\n",
      "Claster 10: game, team, games, players, hockey, season, play, win, teams, player, league\n",
      "Claster 11: card, video, monitor, bus, vga, cards, drivers, color, driver, ram, memory\n",
      "Claster 12: car, cars, engine, dealer, miles, speed, bike, driving, front, ford, tires\n",
      "Claster 13: window, motif, application, server, manager, display, problem, widget, program, screen, code\n",
      "Claster 14: space, nasa, shuttle, launch, station, orbit, earth, moon, data, lunar, gov\n",
      "Claster 15: edu, com, cs, article, email, university, internet, david, send, mit, ftp\n",
      "Claster 16: armenian, armenians, turkish, turkey, armenia, turks, genocide, soviet, greek, government, azerbaijan\n",
      "Claster 17: israel, israeli, jews, arab, jewish, arabs, peace, lebanon, lebanese, israelis, war\n",
      "Claster 18: know, anybody, something, sure, program, need, wanted, heard, appreciated, help, happen\n",
      "Claster 19: file, files, program, ftp, directory, format, image, zip, graphics, gif, available\n",
      "Claster 20: people, think, gun, government, right, believe, law, see, guns, evidence, state\n"
     ]
    }
   ],
   "source": [
    "def get_descriptor(terms, H, topic_index, top):\n",
    "    top_indices = np.argsort(H[topic_index,:])[::-1]\n",
    "    \n",
    "    top_terms = []\n",
    "    for term_index in top_indices[0:top]:\n",
    "        top_terms.append(terms[term_index])\n",
    "    return top_terms\n",
    "\n",
    "descriptors = []\n",
    "for topic_index in range(k):\n",
    "    descriptors.append(get_descriptor(terms, H, topic_index, 11))\n",
    "    str_descriptor = \", \".join(descriptors[topic_index])\n",
    "    print(\"Claster %2d: %s\" % (topic_index+1, str_descriptor ))"
   ]
  },
  {
   "cell_type": "code",
   "execution_count": 17,
   "metadata": {},
   "outputs": [
    {
     "name": "stderr",
     "output_type": "stream",
     "text": [
      "100%|██████████| 50/50 [10:22<00:00, 12.45s/it]\n"
     ]
    }
   ],
   "source": [
    "kmin, kmax = 1, 50\n",
    "\n",
    "topic_models = []\n",
    "for k in tqdm(range(kmin, kmax + 1)):\n",
    "    model = NMF(init=\"nndsvd\", n_components=k) \n",
    "    W = model.fit_transform(A)\n",
    "    H = model.components_    \n",
    "    topic_models.append((k, W, H))"
   ]
  },
  {
   "cell_type": "markdown",
   "metadata": {},
   "source": [
    "# Получили вектор соответствий k -> W,H"
   ]
  },
  {
   "cell_type": "code",
   "execution_count": 76,
   "metadata": {},
   "outputs": [
    {
     "name": "stdout",
     "output_type": "stream",
     "text": [
      "Model has 8460 terms\n"
     ]
    }
   ],
   "source": [
    "import re\n",
    "import gensim\n",
    "\n",
    "\n",
    "class TokenGenerator:\n",
    "    def __init__(self, documents, stopwords):\n",
    "        self.documents = documents\n",
    "        self.stopwords = stopwords\n",
    "        self.tokenizer = re.compile( r\"(?u)\\b\\w\\w+\\b\" )\n",
    "\n",
    "    def __iter__( self ):\n",
    "        for doc in self.documents:\n",
    "            tokens = []\n",
    "            for tok in self.tokenizer.findall(doc):\n",
    "                if tok in self.stopwords:\n",
    "                    tokens.append(\"<stopword>\")\n",
    "                elif len(tok) >= 2:\n",
    "                    tokens.append( tok )\n",
    "            yield tokens\n",
    "            \n",
    "\n",
    "docgen = TokenGenerator(raw_documents, custom_stop_words)\n",
    "w2v_model = gensim.models.Word2Vec(docgen, size=500, min_count=20, sg=1)\n",
    "print( \"Model has %d terms\" % len(w2v_model.wv.vocab) )\n",
    "w2v_model.save(\"w2v-model.bin\")"
   ]
  },
  {
   "cell_type": "code",
   "execution_count": null,
   "metadata": {},
   "outputs": [],
   "source": []
  },
  {
   "cell_type": "markdown",
   "metadata": {},
   "source": [
    "# Посчитаем расстояние "
   ]
  },
  {
   "cell_type": "code",
   "execution_count": 136,
   "metadata": {
    "scrolled": true
   },
   "outputs": [
    {
     "name": "stderr",
     "output_type": "stream",
     "text": [
      "/home/artur/.local/lib/python3.5/site-packages/ipykernel_launcher.py:10: DeprecationWarning: Call to deprecated `similarity` (Method will be removed in 4.0.0, use self.wv.similarity() instead).\n",
      "  # Remove the CWD from sys.path while we load stuff.\n"
     ]
    },
    {
     "name": "stdout",
     "output_type": "stream",
     "text": [
      "K=01: Coherence=0.2747\n",
      "K=02: Coherence=0.2997\n",
      "K=03: Coherence=0.5001\n",
      "K=04: Coherence=0.5500\n",
      "K=05: Coherence=0.5662\n",
      "K=06: Coherence=0.5800\n",
      "K=07: Coherence=0.5925\n",
      "K=08: Coherence=0.6145\n",
      "K=09: Coherence=0.6026\n",
      "K=10: Coherence=0.5787\n",
      "K=11: Coherence=0.5841\n",
      "K=12: Coherence=0.5916\n",
      "K=13: Coherence=0.6041\n",
      "K=14: Coherence=0.5914\n",
      "K=15: Coherence=0.5970\n",
      "K=16: Coherence=0.6105\n",
      "K=17: Coherence=0.6066\n",
      "K=18: Coherence=0.6181\n",
      "K=19: Coherence=0.6125\n",
      "K=20: Coherence=0.6221\n",
      "K=21: Coherence=0.6076\n",
      "K=22: Coherence=0.6209\n",
      "K=23: Coherence=0.6071\n",
      "K=24: Coherence=0.6224\n",
      "K=25: Coherence=0.6161\n",
      "K=26: Coherence=0.6133\n",
      "K=27: Coherence=0.6242\n",
      "K=28: Coherence=0.6116\n",
      "K=29: Coherence=0.6217\n",
      "K=30: Coherence=0.6165\n",
      "K=31: Coherence=0.6253\n",
      "K=32: Coherence=0.6213\n",
      "K=33: Coherence=0.6180\n",
      "K=34: Coherence=0.6116\n",
      "K=35: Coherence=0.6154\n",
      "K=36: Coherence=0.6122\n",
      "K=37: Coherence=0.6192\n",
      "K=38: Coherence=0.6247\n",
      "K=39: Coherence=0.6101\n",
      "K=40: Coherence=0.6085\n",
      "K=41: Coherence=0.6095\n",
      "K=42: Coherence=0.6120\n",
      "K=43: Coherence=0.6148\n",
      "K=44: Coherence=0.6101\n",
      "K=45: Coherence=0.6146\n",
      "K=46: Coherence=0.6144\n",
      "K=47: Coherence=0.6055\n",
      "K=48: Coherence=0.6154\n",
      "K=49: Coherence=0.6017\n",
      "K=50: Coherence=0.6131\n"
     ]
    }
   ],
   "source": [
    "from itertools import combinations\n",
    "\n",
    "def calculate_coherence(w2v_model, term_rankings):\n",
    "    overall_coherence = 0.0\n",
    "    for topic_index in range(len(term_rankings)):\n",
    "        # check each pair of terms\n",
    "        pair_scores = []\n",
    "        \n",
    "        for pair in combinations(term_rankings[topic_index], 2):\n",
    "            pair_scores.append(w2v_model.similarity(pair[0], pair[1]))\n",
    "        \n",
    "        # get the mean for all pairs in this topic\n",
    "        topic_score = sum(pair_scores) / len(pair_scores)\n",
    "        overall_coherence += topic_score\n",
    "        \n",
    "    # get the mean score across all topics\n",
    "    return overall_coherence / len(term_rankings)\n",
    "\n",
    "\n",
    "k_values = []\n",
    "coherences = []\n",
    "for (k, W, H) in topic_models:\n",
    "    # Get all of the topic descriptors - the term_rankings, based on top 10 terms\n",
    "    term_rankings = [] # Массив различных дескрипторов для всех k=1:20\n",
    "    for topic_index in range(k):\n",
    "    \n",
    "        # Получаем k дескрипторов для каждого k-го кластера\n",
    "        term_rankings.append(get_descriptor(terms, H, topic_index, 10))\n",
    "    \n",
    "    \n",
    "    # Now calculate the coherence based on our Word2vec model\n",
    "    k_values.append(k)\n",
    "    # Сохраним k\n",
    "    \n",
    "    # Считает расстояние для текущего k\n",
    "    coherences.append(calculate_coherence(w2v_model, term_rankings))\n",
    "    \n",
    "    \n",
    "    print(\"K=%02d: Coherence=%.4f\" % (k, coherences[-1]));"
   ]
  },
  {
   "cell_type": "code",
   "execution_count": 137,
   "metadata": {},
   "outputs": [
    {
     "data": {
      "image/png": "[encoded data removed]",
      "text/plain": [
       "<matplotlib.figure.Figure at 0x7f971cd09908>"
      ]
     },
     "metadata": {},
     "output_type": "display_data"
    }
   ],
   "source": [
    "plt.grid(True)\n",
    "plt.xlabel(\"Coherence\")\n",
    "plt.ylabel(\"k\")\n",
    "plt.plot(k_values, coherences, \"o-r\");"
   ]
  },
  {
   "cell_type": "markdown",
   "metadata": {},
   "source": [
    "# Оптимальный ${k}$ положим ${20}$ для ${NMF}$ c ${coherence=0.6221}$, так как для ${k > 20}$ результат похож на переобучение"
   ]
  },
  {
   "cell_type": "code",
   "execution_count": 138,
   "metadata": {
    "scrolled": true
   },
   "outputs": [
    {
     "name": "stdout",
     "output_type": "stream",
     "text": [
      "\n",
      "Claster 01: people, think, know, get, time, see, right, good, something, really, want, going, way, things, take, thing, gun, believe, sure, point\n",
      "\n",
      "Claster 02: thanks, please, mail, know, advance, hi, looking, info, email, help, anybody, address, appreciated, information, post, someone, send, interested, need, find\n",
      "\n",
      "Claster 03: geb, cadre, dsl, chastity, n3jxp, shameful, pitt, intellect, skepticism, surrender, gordon, banks, soon, edu, blood, patients, probably, medical, weight, usually\n",
      "\n",
      "Claster 04: god, jesus, bible, christ, faith, believe, christian, christians, church, sin, life, heaven, lord, truth, hell, belief, man, christianity, father, son\n",
      "\n",
      "Claster 05: key, chip, encryption, clipper, keys, government, system, escrow, algorithm, public, security, law, nsa, phone, secure, des, encrypted, bit, privacy, chips\n",
      "\n",
      "Claster 06: drive, scsi, drives, disk, hard, ide, controller, floppy, cd, mac, system, hd, boot, cable, internal, tape, rom, problem, seagate, power\n",
      "\n",
      "Claster 07: windows, file, dos, files, program, version, ftp, running, pc, directory, run, os, microsoft, system, drivers, software, nt, driver, disk, ini\n",
      "\n",
      "Claster 08: 10, 11, 12, 15, 16, 14, 20, 17, 13, 25, 24, 18, 23, 21, 30, 19, 27, period, 50, 000\n",
      "\n",
      "Claster 09: 00, sale, shipping, offer, price, condition, asking, interested, 50, best, sell, excellent, email, brand, includes, 20, original, old, software, disks\n",
      "\n",
      "Claster 10: game, team, games, players, hockey, season, play, win, teams, league, player, nhl, baseball, good, go, best, runs, fans, pitching, detroit\n",
      "\n",
      "Claster 11: card, video, monitor, bus, vga, cards, drivers, color, driver, memory, ram, mode, board, bit, graphics, pc, ati, apple, system, vlb\n",
      "\n",
      "Claster 12: car, bike, cars, engine, good, miles, get, dealer, speed, front, back, buy, oil, tires, power, honda, rear, driving, ride, road\n",
      "\n",
      "Claster 13: window, motif, application, server, display, problem, manager, program, widget, code, screen, get, set, xterm, x11r5, running, sun, user, mouse, colormap\n",
      "\n",
      "Claster 14: space, nasa, shuttle, launch, program, orbit, station, data, earth, moon, lunar, gov, research, science, cost, sci, satellite, information, center, system\n",
      "\n",
      "Claster 15: edu, com, cs, email, ftp, article, university, internet, send, pub, david, address, list, available, mit, mail, uiuc, cc, netcom, sun\n",
      "\n",
      "Claster 16: israel, jews, armenian, israeli, armenians, turkish, arab, war, jewish, government, people, turkey, arabs, state, against, killed, armenia, peace, turks, genocide\n"
     ]
    }
   ],
   "source": [
    "k = 16\n",
    "# get the model that we generated earlier.\n",
    "W = topic_models[k-kmin][1]\n",
    "H = topic_models[k-kmin][2]\n",
    "\n",
    "for topic_index in range(k):\n",
    "    descriptor = get_descriptor(terms, H, topic_index, 20)\n",
    "    str_descriptor = \", \".join(descriptor)\n",
    "    print(\"\\nClaster %02d: %s\" % (topic_index + 1, str_descriptor ))"
   ]
  },
  {
   "cell_type": "markdown",
   "metadata": {},
   "source": [
    "# Рассмотрим модель латентного размещения Дирихле"
   ]
  },
  {
   "cell_type": "code",
   "execution_count": 186,
   "metadata": {},
   "outputs": [],
   "source": [
    "from sklearn import metrics\n",
    "from sklearn.decomposition import LatentDirichletAllocation"
   ]
  },
  {
   "cell_type": "code",
   "execution_count": 187,
   "metadata": {},
   "outputs": [],
   "source": [
    "A, terms, snippets = joblib.load(\"my-articles.pkl\")"
   ]
  },
  {
   "cell_type": "code",
   "execution_count": 190,
   "metadata": {},
   "outputs": [],
   "source": [
    "# create the model\n",
    "k = 11\n",
    "model = LatentDirichletAllocation(n_components=k, max_iter=4,\n",
    "                                learning_method='batch',\n",
    "                                learning_offset=50.,\n",
    "                                random_state=1)\n",
    "\n",
    "W = model.fit_transform(A)\n",
    "H = model.components_"
   ]
  },
  {
   "cell_type": "code",
   "execution_count": 191,
   "metadata": {
    "scrolled": false
   },
   "outputs": [
    {
     "name": "stdout",
     "output_type": "stream",
     "text": [
      "\n",
      "Topic 01: car, helmet, get, radar, dog, cars, driving, detector, see, long, good, time, right, road, bike, riding, know, cop, 205, go, look, insurance, really, ride, need, yeah, think, tank, going, front\n",
      "\n",
      "Topic 02: people, government, key, get, clipper, know, space, time, encryption, think, chip, good, right, number, public, phone, edu, going, back, way, want, see, armenian, fbi, system, clinton, com, armenians, law, keys\n",
      "\n",
      "Topic 03: go, cooling, nubus, old, dram, get, pds, centris, simm, thanks, know, please, quadra, mouse, mail, need, card, hello, water, monitor, simms, macs, advance, 610, looking, stadium, school, possible, toshiba, sale\n",
      "\n",
      "Topic 04: shameful, pitt, geb, gordon, skepticism, dsl, n3jxp, chastity, cadre, intellect, surrender, banks, soon, edu, islam, stuff, satan, deleted, kent, spell, agree, deletion, cheers, god, angels, adam, tells, cubs, atheism, jews\n",
      "\n",
      "Topic 05: car, sale, bike, engine, get, condition, excellent, miles, good, price, best, offer, edu, great, sell, got, think, model, honda, back, know, asking, really, rear, front, printers, tires, box, need, speed\n",
      "\n",
      "Topic 06: thanks, know, please, 00, hi, modem, get, interested, mail, msg, simms, shipping, mac, edu, post, sale, someone, advance, looking, com, roger, sure, lc, orbit, thought, got, color, ico, vram, tek\n",
      "\n",
      "Topic 07: windows, thanks, drive, know, file, card, get, please, problem, program, system, software, dos, window, need, help, files, pc, edu, mail, version, scsi, graphics, hi, disk, work, memory, video, ftp, looking\n",
      "\n",
      "Topic 08: game, team, games, players, season, hockey, play, good, think, teams, league, player, win, baseball, get, nhl, 10, toronto, know, time, go, better, 00, san, runs, detroit, best, fans, hit, pitching\n",
      "\n",
      "Topic 09: time, francis, steve, saturn, points, article, auto, jon, planes, plane, thanks, company, know, people, electronics, sold, gun, lewis, wires, nasa, hacker, circuit, radio, something, ohio, dsp, question, take, email, jagr\n",
      "\n",
      "Topic 10: israel, fpu, oil, test, lebanese, wanted, lebanon, david, 040, engine, pointer, think, com, edu, watch, dealer, happy, tube, deleted, plug, know, get, jpl, syria, article, car, yo, 1993, mercury, focus\n",
      "\n",
      "Topic 11: god, people, think, know, jesus, believe, see, bible, time, life, christian, way, right, something, things, good, true, evidence, christians, get, really, question, law, point, church, read, religion, israel, fact, take\n"
     ]
    }
   ],
   "source": [
    "descriptors = []\n",
    "for topic_index in range(k):\n",
    "    descriptors.append( get_descriptor( terms, H, topic_index, 30 ) )\n",
    "    str_descriptor = \", \".join( descriptors[topic_index] )\n",
    "    print(\"\\nTopic %02d: %s\" % ( topic_index+1, str_descriptor ) )"
   ]
  },
  {
   "cell_type": "markdown",
   "metadata": {},
   "source": [
    "# Эвристически лучший результат получается при ${k = 11}$, сохраним его и попробуем подтвердить далее, рассчитав topic coherence"
   ]
  },
  {
   "cell_type": "code",
   "execution_count": 192,
   "metadata": {},
   "outputs": [],
   "source": [
    "best_k_lda = 11"
   ]
  },
  {
   "cell_type": "code",
   "execution_count": 193,
   "metadata": {
    "scrolled": true
   },
   "outputs": [
    {
     "name": "stdout",
     "output_type": "stream",
     "text": [
      "\n",
      "=== 01. : >I want to upgrade my system and was thinking of buying Adcom seperates.\n",
      ": >I have heard from alot\n",
      "\n",
      "=== 02. I'd bet the price of the helmet that it's okay...From 6 feet\n",
      "or higher, maybe not.\n",
      "\n",
      "\n",
      "I'd wear the fu\n",
      "\n",
      "=== 03. Bob is indeed correct here in more than one way. A look in the old\n",
      "RCA picture tube manual backs thi\n",
      "\n",
      "=== 04. }In heavy traffic I slow down a bit, mostly so I have more buffer zone in\n",
      "}front to balance the mini\n",
      "\n",
      "=== 05. Here is my traditional experience with tickets, playoffs and otherwise,\n",
      "at the Civic Arena.\n",
      "\n",
      "     Sc\n",
      "\n",
      "=== 06. I've found this works pretty well on noisy laminated power\n",
      "transformer cores and windings (the 60Hz \n",
      "\n",
      "=== 07. Heise model 710A pressure meter. This is a precision 4-1/2\n",
      "digit meter measuring 0 - 15 PSI (absolut\n",
      "\n",
      "=== 08. I have an HP 1815 TDR plug-in for an HP180 series scope or mainframe\n",
      "that I'm never going to use (no\n",
      "\n",
      "=== 09. *cough* *choke*  WHAT?!?  if a cop gave me a ticket for \"sounding\" like\n",
      "i was speeding i'd probably \n",
      "\n",
      "=== 10. Hmm... now where was that ad for the combination radio/hand cranked\n",
      "generator/flashlight/siren I saw\n",
      "\n",
      "=== 11. I have to disagree with this.  I have a 92 Z28 with a 350 and a 4-speed auto\n",
      "w/ overdrive, and it is\n"
     ]
    }
   ],
   "source": [
    "def get_top_snippets( all_snippets, W, topic_index, top ):\n",
    "    top_indices = np.argsort( W[:,topic_index] )[::-1]\n",
    "    top_snippets = []\n",
    "    for doc_index in top_indices[0:top]:\n",
    "        top_snippets.append( all_snippets[doc_index] )\n",
    "    return top_snippets\n",
    "\n",
    "topic_snippets = get_top_snippets( snippets, W, 0, best_k_lda )\n",
    "for i, snippet in enumerate(topic_snippets):\n",
    "    print(\"\\n=== %02d. %s\" % ((i + 1),snippet))"
   ]
  },
  {
   "cell_type": "code",
   "execution_count": 195,
   "metadata": {},
   "outputs": [
    {
     "name": "stderr",
     "output_type": "stream",
     "text": [
      "100%|██████████| 20/20 [08:02<00:00, 24.10s/it]\n"
     ]
    }
   ],
   "source": [
    "kmin, kmax = 1, 20\n",
    "\n",
    "topic_models = []\n",
    "for k in tqdm(range(kmin,kmax + 1)):\n",
    "    model = LatentDirichletAllocation(n_components=k, max_iter=5,\n",
    "                                learning_method='batch',\n",
    "                                learning_offset=50.,\n",
    "                                random_state=1)\n",
    "    W = model.fit_transform(A)\n",
    "    H = model.components_\n",
    "    topic_models.append((k, W, H))"
   ]
  },
  {
   "cell_type": "code",
   "execution_count": 196,
   "metadata": {},
   "outputs": [
    {
     "name": "stderr",
     "output_type": "stream",
     "text": [
      "/home/artur/.local/lib/python3.5/site-packages/ipykernel_launcher.py:10: DeprecationWarning: Call to deprecated `similarity` (Method will be removed in 4.0.0, use self.wv.similarity() instead).\n",
      "  # Remove the CWD from sys.path while we load stuff.\n"
     ]
    },
    {
     "name": "stdout",
     "output_type": "stream",
     "text": [
      "K=01: Coherence=0.2679\n",
      "K=02: Coherence=0.2858\n",
      "K=03: Coherence=0.2777\n",
      "K=04: Coherence=0.3530\n",
      "K=05: Coherence=0.3607\n",
      "K=06: Coherence=0.4110\n",
      "K=07: Coherence=0.4559\n",
      "K=08: Coherence=0.4360\n",
      "K=09: Coherence=0.4294\n",
      "K=10: Coherence=0.4148\n",
      "K=11: Coherence=0.4724\n",
      "K=12: Coherence=0.4777\n",
      "K=13: Coherence=0.4619\n",
      "K=14: Coherence=0.5048\n",
      "K=15: Coherence=0.4838\n",
      "K=16: Coherence=0.4943\n",
      "K=17: Coherence=0.4758\n",
      "K=18: Coherence=0.4941\n",
      "K=19: Coherence=0.4906\n",
      "K=20: Coherence=0.5017\n"
     ]
    }
   ],
   "source": [
    "k_values = []\n",
    "coherences = []\n",
    "for (k,W,H) in topic_models:\n",
    "    # Get all of the topic descriptors - the term_rankings, based on top 10 terms\n",
    "    term_rankings = []\n",
    "    for topic_index in range(k):\n",
    "        term_rankings.append( get_descriptor( terms, H, topic_index, 10 ) )\n",
    "    # Now calculate the coherence based on our Word2vec model\n",
    "    k_values.append( k )\n",
    "    coherences.append( calculate_coherence( w2v_model, term_rankings ) )\n",
    "    print(\"K=%02d: Coherence=%.4f\" % ( k, coherences[-1] ) )"
   ]
  },
  {
   "cell_type": "code",
   "execution_count": 197,
   "metadata": {},
   "outputs": [
    {
     "data": {
      "text/plain": [
       "[<matplotlib.lines.Line2D at 0x7f9715a829e8>]"
      ]
     },
     "execution_count": 197,
     "metadata": {},
     "output_type": "execute_result"
    },
    {
     "data": {
      "image/png": "[encoded data removed]",
      "text/plain": [
       "<matplotlib.figure.Figure at 0x7f9715a82dd8>"
      ]
     },
     "metadata": {},
     "output_type": "display_data"
    }
   ],
   "source": [
    "plt.grid(True)\n",
    "plt.plot(k_values, coherences)"
   ]
  },
  {
   "cell_type": "code",
   "execution_count": 198,
   "metadata": {},
   "outputs": [
    {
     "name": "stdout",
     "output_type": "stream",
     "text": [
      "\n",
      "Topic 01: encryption, get, widget, clipper, privacy, chip, government, dog, car, helmet, keys, administration, know, shift, technology, time, cars, auto, key, good, wiretap, enforcement, wheel, right, road, pens, want, phone, shell, sure\n",
      "\n",
      "Topic 02: car, get, good, time, bike, 10, know, edu, back, price, got, soon, want, power, people, need, 000, buy, think, 20, gordon, surrender, banks, really, drive, pitt, money, insurance, see, work\n",
      "\n",
      "Topic 03: mouse, drive, apple, card, centris, fpu, pin, simm, thanks, slot, port, vram, get, lc, dma, nubus, mac, cable, quadra, accelerator, modem, lciii, simms, lib, board, pds, connector, old, think, problem\n",
      "\n",
      "Topic 04: key, clipper, nsa, keys, encryption, escrow, crypto, secure, des, warrant, deleted, rsa, chip, algorithm, cellular, captain, phones, scheme, nist, security, classified, secret, proposal, stuff, phone, tap, cryptography, decrypt, trust, cipher\n",
      "\n",
      "Topic 05: sale, shipping, offer, drive, 00, condition, asking, controller, price, brand, sell, please, interested, email, ide, best, stereo, radar, model, audio, obo, irq, edu, hd, forsale, selling, test, original, detector, box\n",
      "\n",
      "Topic 06: turkish, armenians, armenian, greek, turks, turkey, armenia, greece, cyprus, greeks, colorado, azeri, officer, david, genocide, duke, bodies, city, history, edu, kurds, know, killed, ticket, ron, values, ottoman, joke, azeris, logo\n",
      "\n",
      "Topic 07: windows, thanks, file, know, program, please, card, system, dos, files, software, edu, mail, get, problem, help, hi, need, pc, window, ftp, graphics, version, advance, looking, information, video, drive, available, code\n",
      "\n",
      "Topic 08: game, team, games, players, season, hockey, play, think, good, baseball, league, win, teams, player, get, go, nhl, time, better, know, back, see, hit, best, toronto, fans, runs, got, detroit, really\n",
      "\n",
      "Topic 09: space, nasa, launch, shuttle, lunar, orbit, moon, window, colormap, solar, mail, plane, ac, xlib, mission, gov, earth, sphere, mars, please, r5, uk, dc, news, project, thanks, funding, satellite, expose, know\n",
      "\n",
      "Topic 10: tank, water, oil, gas, plants, wanted, gifs, harley, cam, gb, drain, valve, wave, temperature, lb, fuel, cooling, mike, hot, nuclear, auto, chart, tail, cold, stadium, riding, lab, happy, miles, bolt\n",
      "\n",
      "Topic 11: people, god, think, know, believe, jesus, see, time, right, life, law, way, question, good, evidence, bible, things, point, something, christian, fact, get, true, really, christians, world, church, person, mean, case\n",
      "\n",
      "Topic 12: israel, jews, ground, com, get, know, car, back, arab, killed, war, right, power, go, time, people, arabs, think, bike, israeli, country, land, want, state, good, current, guns, went, __, wire\n",
      "\n",
      "Topic 13: cubs, luke, tony, sent, yep, edu, kidding, brain, copyright, wonder, chemistry, deletion, timothy, sex, tax, called, hawks, deal, wrong, virginia, john, sign, cross, carl, rc, orientation, passages, anti, doctor, giants\n",
      "\n",
      "Topic 14: bmw, go, dod, bike, mine, edu, upenn, champs, keith, sas, ivy, quakers, keller, vote, think, prize, cool, heat, know, try, ride, reds, phillies, right, commitment, get, brains, space, got, dean\n"
     ]
    }
   ],
   "source": [
    "k = 14\n",
    "# get the model that we generated earlier.\n",
    "W = topic_models[k-kmin][1]\n",
    "H = topic_models[k-kmin][2]\n",
    "\n",
    "for topic_index in range(k):\n",
    "    descriptor = get_descriptor( terms, H, topic_index, 30 )\n",
    "    str_descriptor = \", \".join( descriptor )\n",
    "    print(\"\\nTopic %02d: %s\" % ( topic_index+1, str_descriptor ) )"
   ]
  },
  {
   "cell_type": "markdown",
   "metadata": {},
   "source": [
    "# Latent Sematic Analysis"
   ]
  },
  {
   "cell_type": "code",
   "execution_count": 162,
   "metadata": {},
   "outputs": [],
   "source": [
    "from sklearn.decomposition import TruncatedSVD"
   ]
  },
  {
   "cell_type": "code",
   "execution_count": 163,
   "metadata": {},
   "outputs": [],
   "source": [
    "k = 10\n",
    "model = TruncatedSVD(n_components=k) \n",
    "\n",
    "W = model.fit_transform(A)\n",
    "H = model.components_"
   ]
  },
  {
   "cell_type": "code",
   "execution_count": 164,
   "metadata": {},
   "outputs": [
    {
     "name": "stdout",
     "output_type": "stream",
     "text": [
      "Topic 01: know, people, get, think, good, time, thanks, god, please, see\n",
      "Topic 02: god, people, jesus, think, believe, bible, christian, christians, life, government\n",
      "Topic 03: geb, cadre, pitt, dsl, chastity, n3jxp, shameful, edu, intellect, skepticism\n",
      "Topic 04: god, jesus, edu, thanks, geb, cadre, dsl, chastity, n3jxp, skepticism\n",
      "Topic 05: key, chip, encryption, government, clipper, keys, file, public, program, law\n",
      "Topic 06: drive, scsi, system, key, disk, card, drives, chip, ide, hard\n",
      "Topic 07: windows, file, window, dos, files, program, problem, running, team, win\n",
      "Topic 08: god, key, 00, game, team, edu, games, chip, jesus, 10\n",
      "Topic 09: 00, edu, israel, armenian, com, sale, space, armenians, jews, people\n",
      "Topic 10: drive, game, scsi, israel, team, file, disk, files, drives, jews\n"
     ]
    }
   ],
   "source": [
    "descriptors = []\n",
    "for topic_index in range(k):\n",
    "    descriptors.append(get_descriptor(terms, H, topic_index, 10))\n",
    "    str_descriptor = \", \".join(descriptors[topic_index])\n",
    "    print(\"Topic %02d: %s\" % (topic_index+1, str_descriptor))"
   ]
  },
  {
   "cell_type": "code",
   "execution_count": 165,
   "metadata": {},
   "outputs": [
    {
     "name": "stdout",
     "output_type": "stream",
     "text": [
      "01. Accounts of Anti-Armenian Human Rights Violations in Azerbaijan #007\n",
      "                 Prelude to Cur\n",
      "02. Accounts of Anti-Armenian Human Right Violations in Azerbaijan #008 Part B\n",
      "                 Prelude \n",
      "03. Accounts of Anti-Armenian Human Right Violations in Azerbaijan #012\n",
      "                 Prelude to Curr\n",
      "04. *******\n",
      "*******  This is somewhat long, but pleas read it!!!!!!!!!!!!!!!!!\n",
      "*******\n",
      "\n",
      "\n",
      "\n",
      "Boy am i glad \n",
      "05. I am not an expert in the cryptography science, but some basic things\n",
      "seem evident to me, things whi\n",
      "06. Archive-name: graphics/resources-list/part3\n",
      "Last-modified: 1993/04/17\n",
      "\n",
      "\n",
      "Computer Graphics Resource L\n",
      "07. THE WHITE HOUSE\n",
      "\n",
      "                    Office of the Press Secretary\n",
      "_________________________________\n",
      "08. GREAT post Martin.  Very informative, well-balanced, and humanitarian\n",
      "without neglecting the need fo\n",
      "09. Accounts of Anti-Armenian Human Right Violations in Azerbaijan #008 Part A\n",
      "                 Prelude \n",
      "10. Accounts of Anti-Armenian Human Right Violations in Azerbaijan #013\n",
      "                 Prelude to Curr\n"
     ]
    }
   ],
   "source": [
    "topic_snippets = get_top_snippets( snippets, W, 0, 10 )\n",
    "for i, snippet in enumerate(topic_snippets):\n",
    "    print(\"%02d. %s\" % ( (i+1), snippet ) )"
   ]
  },
  {
   "cell_type": "code",
   "execution_count": 166,
   "metadata": {},
   "outputs": [
    {
     "name": "stderr",
     "output_type": "stream",
     "text": [
      "100%|██████████| 20/20 [00:06<00:00,  2.99it/s]\n"
     ]
    }
   ],
   "source": [
    "kmin, kmax = 1, 20\n",
    "\n",
    "topic_models = []\n",
    "for k in tqdm(range(kmin,kmax+1)):\n",
    "    model = TruncatedSVD(n_components=k ) \n",
    "    W = model.fit_transform( A )\n",
    "    H = model.components_    \n",
    "    topic_models.append( (k,W,H) )"
   ]
  },
  {
   "cell_type": "code",
   "execution_count": 168,
   "metadata": {},
   "outputs": [
    {
     "name": "stdout",
     "output_type": "stream",
     "text": [
      "Model has 8460 terms\n"
     ]
    }
   ],
   "source": [
    "w2v_model = gensim.models.Word2Vec.load(\"w2v-model.bin\")\n",
    "print( \"Model has %d terms\" % len(w2v_model.wv.vocab) )"
   ]
  },
  {
   "cell_type": "code",
   "execution_count": 169,
   "metadata": {},
   "outputs": [
    {
     "name": "stderr",
     "output_type": "stream",
     "text": [
      "/home/artur/.local/lib/python3.5/site-packages/ipykernel_launcher.py:10: DeprecationWarning: Call to deprecated `similarity` (Method will be removed in 4.0.0, use self.wv.similarity() instead).\n",
      "  # Remove the CWD from sys.path while we load stuff.\n"
     ]
    },
    {
     "name": "stdout",
     "output_type": "stream",
     "text": [
      "K=01: Coherence=0.2747\n",
      "K=02: Coherence=0.3913\n",
      "K=03: Coherence=0.5612\n",
      "K=04: Coherence=0.5196\n",
      "K=05: Coherence=0.5071\n",
      "K=06: Coherence=0.5122\n",
      "K=07: Coherence=0.4877\n",
      "K=08: Coherence=0.4643\n",
      "K=09: Coherence=0.4540\n",
      "K=10: Coherence=0.4321\n",
      "K=11: Coherence=0.4453\n",
      "K=12: Coherence=0.4350\n",
      "K=13: Coherence=0.4154\n",
      "K=14: Coherence=0.4086\n",
      "K=15: Coherence=0.4065\n",
      "K=16: Coherence=0.4088\n",
      "K=17: Coherence=0.3846\n",
      "K=18: Coherence=0.3840\n",
      "K=19: Coherence=0.3818\n",
      "K=20: Coherence=0.3906\n"
     ]
    }
   ],
   "source": [
    "k_values = []\n",
    "coherences = []\n",
    "for (k,W,H) in topic_models:\n",
    "    # Get all of the topic descriptors - the term_rankings, based on top 10 terms\n",
    "    term_rankings = []\n",
    "    for topic_index in range(k):\n",
    "        term_rankings.append( get_descriptor( terms, H, topic_index, 10 ) )\n",
    "    # Now calculate the coherence based on our Word2vec model\n",
    "    k_values.append( k )\n",
    "    coherences.append( calculate_coherence( w2v_model, term_rankings ) )\n",
    "    print(\"K=%02d: Coherence=%.4f\" % ( k, coherences[-1] ) )"
   ]
  },
  {
   "cell_type": "code",
   "execution_count": 174,
   "metadata": {},
   "outputs": [
    {
     "data": {
      "text/plain": [
       "[<matplotlib.lines.Line2D at 0x7f971d779470>]"
      ]
     },
     "execution_count": 174,
     "metadata": {},
     "output_type": "execute_result"
    },
    {
     "data": {
      "image/png": "[encoded data removed]",
      "text/plain": [
       "<matplotlib.figure.Figure at 0x7f97195ef748>"
      ]
     },
     "metadata": {},
     "output_type": "display_data"
    }
   ],
   "source": [
    "plt.grid(True)\n",
    "plt.ylabel(\"${Cogerence}$\")\n",
    "plt.xlabel(\"${k}$\")\n",
    "plt.plot(k_values, coherences, \"o-r\")"
   ]
  },
  {
   "cell_type": "code",
   "execution_count": 178,
   "metadata": {},
   "outputs": [
    {
     "data": {
      "text/plain": [
       "0.5612099628140523"
      ]
     },
     "execution_count": 178,
     "metadata": {},
     "output_type": "execute_result"
    }
   ],
   "source": [
    "coherences[2]"
   ]
  },
  {
   "cell_type": "code",
   "execution_count": 176,
   "metadata": {},
   "outputs": [
    {
     "name": "stdout",
     "output_type": "stream",
     "text": [
      "Topic 01: know, people, get, think, good, time, thanks, god, please, see\n",
      "Topic 02: god, people, jesus, think, believe, bible, christian, christians, life, government\n",
      "Topic 03: geb, cadre, pitt, dsl, n3jxp, chastity, shameful, intellect, skepticism, surrender\n"
     ]
    }
   ],
   "source": [
    "k = 3\n",
    "# get the model that we generated earlier.\n",
    "W = topic_models[k-kmin][1]\n",
    "H = topic_models[k-kmin][2]\n",
    "\n",
    "for topic_index in range(k):\n",
    "    descriptor = get_descriptor( terms, H, topic_index, 10 )\n",
    "    str_descriptor = \", \".join( descriptor )\n",
    "    print(\"Topic %02d: %s\" % ( topic_index+1, str_descriptor ) )"
   ]
  },
  {
   "cell_type": "markdown",
   "metadata": {},
   "source": [
    "# Так как модель LSA уступает остальным двум моделям, определимся с выбором: coherence(NMF) > coherence(LDA), следовательно остановимся на данной модели"
   ]
  },
  {
   "cell_type": "markdown",
   "metadata": {},
   "source": [
    "# Разработаем функционал для сопоставления документу\n",
    "# ${d_0}$ - ${k}$ наиболее близких документов ${d_i , i=\\{1, ..., k\\}}$, обучившись на выборке ${X}$"
   ]
  },
  {
   "cell_type": "code",
   "execution_count": 49,
   "metadata": {},
   "outputs": [],
   "source": [
    "class NewsRecommender():\n",
    "    def __init__(self):\n",
    "        self.recommended = []\n",
    "        \n",
    "        # Data params\n",
    "        self.data              = None\n",
    "        self.target_names      = None\n",
    "        self.custom_stop_words = None\n",
    "        self.terms             = None\n",
    "        self.raw_documents     = None\n",
    "        self.snippets          = None\n",
    "        self.list_of_tops      = None\n",
    "        \n",
    "        # Model params\n",
    "        self.H           = None\n",
    "        self.W           = None\n",
    "        self.A           = None\n",
    "        self.A_shape     = None\n",
    "        self.optimal_k   = None\n",
    "        self.text_sample = None\n",
    "        \n",
    "    def recommend(self, k):\n",
    "        \n",
    "        # Getting vector of parameters of our text sample,\n",
    "        # where (as far as i undertood) contains\n",
    "        # such elements, that i-th element (i = 1:20)\n",
    "        # represents relationship between i-th topic \n",
    "        # and out sample text\n",
    "        self.text_sample_params = self.W[-1]\n",
    "        \n",
    "        tmp_W = np.delete(self.W, -1, 0)\n",
    "        \n",
    "        self.list_of_tops = np.argsort(sklearn.metrics.pairwise.euclidean_distances(tmp_W, [self.text_sample_params]), axis=0)\n",
    "        \n",
    "        for i in range(k):\n",
    "            current_topic = self.data[self.list_of_tops[i][0]]\n",
    "            \n",
    "            print(\"=\" * 20, \"Topic %3d\" % (i), \"=\" * 20)\n",
    "            print(current_topic)\n",
    "            \n",
    "            self.recommended.append(current_topic)\n",
    "        \n",
    "        self.recommended\n",
    "    \n",
    "    def train(self, text_sample):\n",
    "        \n",
    "        self.text_sample = text_sample\n",
    "        \n",
    "        # Texts - array(corpus) of docs, where docs may be words or sentences\n",
    "        print(\"Importing data...\", end=\"\")\n",
    "        self.__import_data__()\n",
    "        print(\"Done\\n\")\n",
    "        \n",
    "        print(\"Importing stopwords...\", end=\"\")\n",
    "        self.__import_stopwords__()\n",
    "        print(\"Done\\n\")\n",
    "        \n",
    "        self.__create_model__()\n",
    "    \n",
    "    def __create_model__(self):\n",
    "        # Data preprocessing\n",
    "        self.raw_documents = []\n",
    "        self.snippets = []\n",
    "        for line in self.data:\n",
    "            text = line.strip()\n",
    "            self.raw_documents.append(text.lower())\n",
    "            self.snippets.append(text[0 : min(len(text), 300)])\n",
    "\n",
    "        # Applying tf-idf\n",
    "        vectorizer = TfidfVectorizer(stop_words=self.custom_stop_words, min_df=20)\n",
    "        self.A = vectorizer.fit_transform(self.raw_documents)\n",
    "        self.A_shape = self.A.shape\n",
    "        self.terms = vectorizer.get_feature_names()\n",
    "        \n",
    "        # Applying NMF\n",
    "        self.optimal_k = 20\n",
    "        model = NMF(init=\"nndsvd\", n_components=self.optimal_k) \n",
    "        self.W = model.fit_transform(self.A)\n",
    "        self.H = model.components_\n",
    "        \n",
    "    def __get_descriptor__(self, topic_index, top):\n",
    "        top_indices = np.argsort(self.H[topic_index,:])[::-1]\n",
    "        top_terms = []\n",
    "        for term_index in top_indices[0:top]:\n",
    "            top_terms.append(self.terms[term_index])\n",
    "        return top_terms\n",
    "    \n",
    "    def __import_stopwords__(self):\n",
    "        self.custom_stop_words = []\n",
    "        with open(\"stopwords.txt\", \"r\") as f:\n",
    "            for line in f.readlines(): self.custom_stop_words.append(line.strip().lower())\n",
    "                \n",
    "    def __get_descriptor__(self, terms, H, topic_index, top ):\n",
    "        top_indices = np.argsort( H[topic_index,:] )[::-1]\n",
    "        top_terms = []\n",
    "        for term_index in top_indices[0:top]:\n",
    "            top_terms.append( terms[term_index] )\n",
    "        return top_terms\n",
    "\n",
    "    def __import_data__(self):\n",
    "        \n",
    "        try:\n",
    "            import sklearn\n",
    "            from sklearn.feature_extraction.text import TfidfVectorizer\n",
    "            from sklearn.datasets import fetch_20newsgroups\n",
    "            self.data = fetch_20newsgroups(subset='train',\n",
    "                                           remove=('headers',\n",
    "                                                   'footers',\n",
    "                                                   'quotes'))\n",
    "            self.target_names = self.data.target_names\n",
    "            self.data = self.data.data\n",
    "            self.data.append(self.text_sample)\n",
    "        except:\n",
    "            print(\"I/O Error\")"
   ]
  },
  {
   "cell_type": "code",
   "execution_count": null,
   "metadata": {},
   "outputs": [],
   "source": []
  },
  {
   "cell_type": "code",
   "execution_count": 70,
   "metadata": {},
   "outputs": [],
   "source": [
    "def unittest():\n",
    "    \n",
    "    # News and articles from BBC news 2017\n",
    "    news = [None]*3\n",
    "    \n",
    "    news[0] = ('The Armenian Genocide also known as the Armenian Holocaust' \n",
    "            'was the Ottoman governments systematic extermination of 1.5'   \n",
    "            'million Armenians, mostly citizens within the Ottoman Empire'\n",
    "            'and its successor state, the Republic of Turkey.')\n",
    "    \n",
    "    news[1] = (\"This Healey typifies the genre of affordable British post-World War II\"\n",
    "             \"sports cars. Exported to the US in droves, these cars helped rescue the\"\n",
    "             \"island’s motor manufacturers. (The first car sold for Mattel’s Barbie doll\"\n",
    "             \"was, in fact, a pink Healey.) The 3000, designed by the famed racer and \"\n",
    "             \"engineer Donald Healey and assembled by the giant British Motor Corporation,\"\n",
    "             \"debuted to acclaim in 1959. By the time the more powerful MKIII version bowed\"\n",
    "             \"in 1963, the roadster was fully developed and had authored a successful\"\n",
    "             \"history in motorsport, and even a few production-car speed records. (Martyn Goddard)\")\n",
    "    \n",
    "    news[2] = (\"He was speaking after Turkey's military incursion into northern Syria to fight\"\n",
    "             \"the Kurdish YPG militia at the weekend. Turkey sees the group as terrorists,\"\n",
    "             \"but they have been crucial in a US-led coalition against the Islamic State (IS) group.\"\n",
    "             \"Ankara said the US had to stop backing the YPG if they wanted cooperation.\"\n",
    "             \"Thousands of civilians in the northern Syrian region of Afrin are reportedly\"\n",
    "             \"trying to flee as Turkey continues its ground offensive. The UN Security\"\n",
    "             \"Council has been meeting to discuss the operation, as well as the wider\"\n",
    "             \"humanitarian situation in Syria. Turkey says its troops have seized territory\"\n",
    "             \"from the Kurdish militia. It believes the fighters are an extension of the\"\n",
    "             \"Kurdistan Workers Party (PKK), which has fought for Kurdish autonomy in Turkey\"\n",
    "             \"for three decades. The YPG denies any direct links to the group.\")\n",
    "    \n",
    "    model = NewsRecommender()\n",
    "    \n",
    "    for article in news:\n",
    "        model.train(article)\n",
    "        model.recommend(2)\n",
    "    \n",
    "    return 0"
   ]
  },
  {
   "cell_type": "code",
   "execution_count": 71,
   "metadata": {
    "scrolled": false
   },
   "outputs": [
    {
     "name": "stdout",
     "output_type": "stream",
     "text": [
      "Importing data...Done\n",
      "\n",
      "Importing stopwords...Done\n",
      "\n",
      "==================== Topic   0 ====================\n",
      "04/16/93 1045  ARMENIA SAYS IT COULD SHOOT DOWN TURKISH PLANES\n",
      "\n",
      "By David Ljunggren\n",
      "\n",
      "MOSCOW, April 16, Reuter - Armenia accused Turkey on Friday of flying weapons\n",
      "x and troops across Armenian airspace to Azerbaijan and strongly hinted it\n",
      "might try to shoot the planes down, local journalists in Yerevan said.\n",
      "\n",
      "Separately, Itar-Tass news agency said Armenian forces had halted their latest\n",
      "offensive which has swallowed up one-tenth of Azerbaijan and sent tensions in\n",
      "the Transcaucasian region soaring.\n",
      "\n",
      "The journalists in the Armenian capital quoted Armen Duliyan, head of the\n",
      "Armenian defence ministry press centre, as saying Ankara had been sending \n",
      "planes up to 15 times a day to Azerbaijan with arms and troops.\n",
      "\n",
      "It looks as though the Armenian leadership will have to warn Turkey about\n",
      "the impermissibility of such actions,\" the journalists quoted Duliyan as \n",
      "saying.\n",
      "\n",
      "\"If such steps are pursued in the future we will have recourse to appropriate\n",
      "measures. We have all the necessary means, including modern anti-aircraft\n",
      "units.\"\n",
      "\n",
      "Turkey, which shares a border with Armenia, has supported Azerbaijan in the\n",
      "conflict over the mainly Armenian-populated Nagorno-Karabakh region in which\n",
      "more than 2,500 people have been killed since fighting erupted in 1988.\n",
      "\n",
      "The Turkish foreign ministry said on Friday it had so far sent one plane to\n",
      "Azerbaijan containing humanitarian aid.\n",
      "\n",
      "A Turkish foreign ministry spokesman on Thursday would not comment directly\n",
      "on a report by Hurriyet newspaper that a first consignment of rockets, rocket\n",
      "launchers, ammunition and light weapons had arrived in Azerbaijan from Turkey.\n",
      "\n",
      "Duliyan said Turkey had been sending up to 30 trucks a day carrying troops\n",
      "and arms to the bordering Azeri autonomous territory of Nakhichevan, from where\n",
      "they were flown across Armenian airspace to the Azeri capital Baku.\n",
      "\n",
      "\"All the responsibility for possible consequences will be borne by the\n",
      "country which is affording military assistance over our airspace,\" he said.\n",
      "\n",
      "Armenia denies any formal role in the conflict, saying that the troops \n",
      "involved in the fighting are from the enclave itself.\n",
      "\n",
      "Tass said the Karabakh forces decided on Friday to suspend their offensive\n",
      "along the entire Armenian-Azerbaijani front.\n",
      "\n",
      "\"The Karabakh authorities are reportedly ready to give independent\n",
      "inspectors a chance to see for themselves on the spot that the (enclave's)\n",
      "leadership is striving to achieve a ceasefire,\" the agency said.\n",
      "\n",
      "Armenian President Levon Ter-Petrosyan called for a two-stage ceasefire in\n",
      "Karabakh when he arrived in the Belarus capital Minsk on Friday for a summit of\n",
      "Commonwealth leaders.\n",
      "\n",
      "\"The first stage of the settlement should involve a ceasefire and securing the\n",
      "protection of the Karabakh population,\" Tass quoted him as saying.\n",
      "     \n",
      "At least 10 ceasefires have been brokered in the conflict but all have\n",
      "collapsed.\n",
      "\n",
      "\"The second stage should involve discussing and finding a solution to the\n",
      "legal issues: that is, a clarification of the status of Nagorno-Karabakh,\" he\n",
      "said. The republic declared full independence last year but the move has not \n",
      "been recognised by any other country.\n",
      "\n",
      "Armenia insists that a separate Karabakh delegation should take part in future\n",
      "peace talks, something Azerbaijan rejects.\n",
      "\n",
      "Local news agencies in Baku said on Friday that Interior Minister Iskender\n",
      "Gamidov, a fiery nationalist and hardliner in the territorial dispute with\n",
      "Armenia, had resigned.\n",
      "\n",
      "Turan news agency said he quit on Thursday and had cleared his office.\n",
      "Khabar-Servis agency said he would be replaced by the military commandant of\n",
      "Baku, police Major-General Abdullah Allakhverdiyev. There was no official\n",
      "confirmation.\n",
      "\n",
      "\n",
      "==================== Topic   1 ====================\n",
      "\n",
      "\n",
      "C'mon, you still haven't corrected yourself, 'wieneramus'. In April \n",
      "1942, Hitler was preparing for the invasion of the Caucasus. A \n",
      "number of Nazi Armenian leaders began submitting plans to German\n",
      "officials in spring and summer 1942. One of them was Souren Begzadian\n",
      "Paikhar, son of a former ambassador of the Armenian Republic in Baku.\n",
      "Paikhar wrote a letter to Hitler, asking for German support to his\n",
      "Armenian national socialist movement Hossank and suggesting the\n",
      "creation of an Armenian SS formation in order \n",
      "\n",
      "\"to educate the youth of liberated Armenia according to the \n",
      " spirit of the Nazi ideas.\"\n",
      "\n",
      "He wanted to unite the Armenians of the already occupied territories\n",
      "of the USSR in his movement and with them conquer historic Turkish\n",
      "homeland. Paikhar was confined to serving the Nazis in Goebbels\n",
      "Propaganda ministry as a speaker for Armenian- and French-language\n",
      "radio broadcastings.[1] The Armenian-language broadcastings were\n",
      "produced by yet another Nazi Armenian Viguen Chanth.[2]\n",
      "\n",
      "[1] Patrick von zur Muhlen (Muehlen), p. 106.\n",
      "[2] Enno Meyer, A. J. Berkian, 'Zwischen Rhein und Arax, 900\n",
      "    Jahre Deutsch-Armenische beziehungen,' (Heinz Holzberg\n",
      "    Verlag-Oldenburg 1988), pp. 124 and 129.\n",
      "\n",
      "\n",
      "The establishment of Armenian units in the German army was favored\n",
      "by General Dro (the Butcher). He played an important role in the\n",
      "establishment of the Armenian 'legions' without assuming any \n",
      "official position. His views were represented by his men in the\n",
      "respective organs. An interesting meeting took place between Dro\n",
      "and Reichsfuehrer-SS Heinrich Himmler toward the end of 1942.\n",
      "Dro discussed matters of collaboration with Himmler and after\n",
      "a long conversation, asked if he could visit POW camp close to\n",
      "Berlin. Himmler provided Dro with his private car.[1] \n",
      "\n",
      "A minor problem was that some of the Soviet nationals were not\n",
      "'Aryans' but 'subhumans' according to the official Nazi philosophy.\n",
      "As such, they were subject to German racism. However, Armenians\n",
      "were the least threatened and indeed most privileged. In August \n",
      "1933, Armenians had been recognized as Aryans by the Bureau of\n",
      "Racial Investigation in the Ministry for Domestic Affairs.\n",
      "\n",
      "[1] Meyer, Berkian, ibid., pp. 112-113.\n",
      "\n",
      "Need I go on?\n",
      "\n",
      "Serdar Argic\n",
      "Importing data...Done\n",
      "\n",
      "Importing stopwords...Done\n",
      "\n",
      "==================== Topic   0 ====================\n",
      "\n",
      "\n",
      "\n",
      "\n",
      "\n",
      "\n",
      "\n",
      "\n",
      "\n",
      "\n",
      "\n",
      "\n",
      "\n",
      "\n",
      "I remember this happening on the I-75 through Michigan and Ohio several\n",
      "years back. A group of guys in an old beater would rear end a car,\n",
      "usually out of state or Canadians. You stop and they smack you with a BB\n",
      "bat. At least they didn't kill you for the sake of a car.\n",
      "I think the cops put out decoys and this calmed down for a while.\n",
      "==================== Topic   1 ====================\n",
      "This is a two-sided problem. Unfortunately our culture has been deteriorating over time.\n",
      "The \"breeding\" of these low-life's is getting worse; our justice system is at best\n",
      "extremely weak to handle these problems. That is why low-abiding citizens should have\n",
      "the power to protect themselves and their property using deadly force if necessary \n",
      "anywhere a threat is imminent.\n",
      "\n",
      "My Camaro (my pride and joy) got stolen right out of my driveway a few years back.\n",
      "The persons that did that were eventually caught (lucky for me!) but not before\n",
      "having trashed the car.\n",
      "\n",
      "On another occasion, on my way from Texas to Florida, I had stopped in a small motel\n",
      "for the night in a small town somewhere in Florida. About 5 youths were disturbing my\n",
      "car, setting off the alarm and challenging me to come out. When I and another tenant\n",
      "walked out with a 357 Magnum and a 45 automatic respectively, they vanished. \n",
      "Needless to say, I immediately packed-up and left.\n",
      "\n",
      "Watch out for car-jacking and staged accidents. They can be deadly!\n",
      "Importing data...Done\n",
      "\n",
      "Importing stopwords...Done\n",
      "\n",
      "==================== Topic   0 ====================\n",
      "there you go the greeks have been trying for over a year, even though\n",
      "mr. mitsotakis was threatening the EC that if Macedonia was recognized\n",
      "that the honourable papandreou would be back...\n",
      "\n",
      "\n",
      "well i guess the europeans pulled the plug eh ..? theis is just one\n",
      "other example about the corruptness and the \"perversity\" of greek\n",
      "foreign policy objectives...\n",
      "\n",
      "pity to those who have to live under the greek flag with \"these\"\n",
      "political decision-makers...\n",
      "\n",
      "MORE RECOGNITION FOR MACEDONIA.  Belgium, Germany, and Italy joined\n",
      "Denmark on 15 April in recognizing the Republic of Macedonia, AFP\n",
      "reports.  Each is an EC member state. Greece, which has blocked EC\n",
      "recognition of Macedonia, noted that such recognition \"does not\n",
      "facilitate\" negotiations between Athens and Skopje now underway in\n",
      "New York.  Duncan Perry, RFE/RL, Inc.\n",
      "\n",
      "\n",
      "the day will come when reuters will write \"despite lengthy negotiations\n",
      "and numerous attempts to reunite the island THE TURKISH REPUBLIC\n",
      "OF NORTHERN CYPRUS \" was recognized by...\n",
      "\n",
      "==================== Topic   1 ====================\n",
      "It seems to me that you are the one who is supposed to do some reading. I think\n",
      "that our major difference in opinion is on the legitimacy of Sevres. First, thattreaty was signed by the Ottoman Empire therefore legally it does not bind the \n",
      "Republic of Turkey. The new independence movement (which by the way, is not the same as the Young Turks) naturally rejected it out of hand. to say that we \n",
      "should accept because the Germans did theirs is absurd. We saw what the cosequences of such harsh treaties were in Hitler. Second, the Sevres treaty was even \n",
      "worse than Versailles. It divided the Ottoman Empire in to several influence \n",
      "zones, had the capital occupied, the economy under Allied control, the army di\n",
      "minished to nothing but a police force, in short a country in name only. I'd\n",
      "wonder if you would like to live under such conditions. And for the record, I donot feel sorry for the soldiers killed in IZMIR harbour. Before evacuating the \n",
      "city, the Greek forces burned it down, so it serves them right.\n",
      "As for being fooled by Allied promises, that too is your fault. You did not come to Anatolia just to enforce Sevres but to take part in the plunder  as well.\n",
      "K. Burak Ucer\n"
     ]
    },
    {
     "data": {
      "text/plain": [
       "0"
      ]
     },
     "execution_count": 71,
     "metadata": {},
     "output_type": "execute_result"
    }
   ],
   "source": [
    "# Run tests\n",
    "unittest()"
   ]
  },
  {
   "cell_type": "code",
   "execution_count": null,
   "metadata": {},
   "outputs": [],
   "source": []
  }
 ],
 "metadata": {
  "kernelspec": {
   "display_name": "Python 3",
   "language": "python",
   "name": "python3"
  },
  "language_info": {
   "codemirror_mode": {
    "name": "ipython",
    "version": 3
   },
   "file_extension": ".py",
   "mimetype": "text/x-python",
   "name": "python",
   "nbconvert_exporter": "python",
   "pygments_lexer": "ipython3",
   "version": "3.5.2"
  }
 },
 "nbformat": 4,
 "nbformat_minor": 2
}
